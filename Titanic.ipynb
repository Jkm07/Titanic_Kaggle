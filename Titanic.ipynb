{
 "cells": [
  {
   "cell_type": "markdown",
   "id": "0c41c37a",
   "metadata": {},
   "source": [
    "# Titanic - Kaggle"
   ]
  },
  {
   "cell_type": "markdown",
   "id": "12491071",
   "metadata": {},
   "source": [
    "Celem zadania jest stworzenie modelu ML, który będzie w stanie przewidzieć, czy dany pasażer przetrwał katastrofę Titanica na podstawie między innymi jego wieku, płci czy ceny jego biletu\n",
    "\n",
    "Dane treningowe zostały pobrane z:\n",
    "https://www.kaggle.com/competitions/titanic"
   ]
  },
  {
   "cell_type": "markdown",
   "id": "d7dab583",
   "metadata": {},
   "source": [
    "# Analiza danych"
   ]
  },
  {
   "cell_type": "markdown",
   "id": "a9031a1e",
   "metadata": {},
   "source": [
    "Wczytanie danych"
   ]
  },
  {
   "cell_type": "code",
   "execution_count": 1,
   "id": "b9094d91",
   "metadata": {},
   "outputs": [
    {
     "data": {
      "text/html": [
       "<div>\n",
       "<style scoped>\n",
       "    .dataframe tbody tr th:only-of-type {\n",
       "        vertical-align: middle;\n",
       "    }\n",
       "\n",
       "    .dataframe tbody tr th {\n",
       "        vertical-align: top;\n",
       "    }\n",
       "\n",
       "    .dataframe thead th {\n",
       "        text-align: right;\n",
       "    }\n",
       "</style>\n",
       "<table border=\"1\" class=\"dataframe\">\n",
       "  <thead>\n",
       "    <tr style=\"text-align: right;\">\n",
       "      <th></th>\n",
       "      <th>PassengerId</th>\n",
       "      <th>Survived</th>\n",
       "      <th>Pclass</th>\n",
       "      <th>Name</th>\n",
       "      <th>Sex</th>\n",
       "      <th>Age</th>\n",
       "      <th>SibSp</th>\n",
       "      <th>Parch</th>\n",
       "      <th>Ticket</th>\n",
       "      <th>Fare</th>\n",
       "      <th>Cabin</th>\n",
       "      <th>Embarked</th>\n",
       "    </tr>\n",
       "  </thead>\n",
       "  <tbody>\n",
       "    <tr>\n",
       "      <th>0</th>\n",
       "      <td>1</td>\n",
       "      <td>0</td>\n",
       "      <td>3</td>\n",
       "      <td>Braund, Mr. Owen Harris</td>\n",
       "      <td>male</td>\n",
       "      <td>22.0</td>\n",
       "      <td>1</td>\n",
       "      <td>0</td>\n",
       "      <td>A/5 21171</td>\n",
       "      <td>7.2500</td>\n",
       "      <td>NaN</td>\n",
       "      <td>S</td>\n",
       "    </tr>\n",
       "    <tr>\n",
       "      <th>1</th>\n",
       "      <td>2</td>\n",
       "      <td>1</td>\n",
       "      <td>1</td>\n",
       "      <td>Cumings, Mrs. John Bradley (Florence Briggs Th...</td>\n",
       "      <td>female</td>\n",
       "      <td>38.0</td>\n",
       "      <td>1</td>\n",
       "      <td>0</td>\n",
       "      <td>PC 17599</td>\n",
       "      <td>71.2833</td>\n",
       "      <td>C85</td>\n",
       "      <td>C</td>\n",
       "    </tr>\n",
       "    <tr>\n",
       "      <th>2</th>\n",
       "      <td>3</td>\n",
       "      <td>1</td>\n",
       "      <td>3</td>\n",
       "      <td>Heikkinen, Miss. Laina</td>\n",
       "      <td>female</td>\n",
       "      <td>26.0</td>\n",
       "      <td>0</td>\n",
       "      <td>0</td>\n",
       "      <td>STON/O2. 3101282</td>\n",
       "      <td>7.9250</td>\n",
       "      <td>NaN</td>\n",
       "      <td>S</td>\n",
       "    </tr>\n",
       "    <tr>\n",
       "      <th>3</th>\n",
       "      <td>4</td>\n",
       "      <td>1</td>\n",
       "      <td>1</td>\n",
       "      <td>Futrelle, Mrs. Jacques Heath (Lily May Peel)</td>\n",
       "      <td>female</td>\n",
       "      <td>35.0</td>\n",
       "      <td>1</td>\n",
       "      <td>0</td>\n",
       "      <td>113803</td>\n",
       "      <td>53.1000</td>\n",
       "      <td>C123</td>\n",
       "      <td>S</td>\n",
       "    </tr>\n",
       "    <tr>\n",
       "      <th>4</th>\n",
       "      <td>5</td>\n",
       "      <td>0</td>\n",
       "      <td>3</td>\n",
       "      <td>Allen, Mr. William Henry</td>\n",
       "      <td>male</td>\n",
       "      <td>35.0</td>\n",
       "      <td>0</td>\n",
       "      <td>0</td>\n",
       "      <td>373450</td>\n",
       "      <td>8.0500</td>\n",
       "      <td>NaN</td>\n",
       "      <td>S</td>\n",
       "    </tr>\n",
       "  </tbody>\n",
       "</table>\n",
       "</div>"
      ],
      "text/plain": [
       "   PassengerId  Survived  Pclass  \\\n",
       "0            1         0       3   \n",
       "1            2         1       1   \n",
       "2            3         1       3   \n",
       "3            4         1       1   \n",
       "4            5         0       3   \n",
       "\n",
       "                                                Name     Sex   Age  SibSp  \\\n",
       "0                            Braund, Mr. Owen Harris    male  22.0      1   \n",
       "1  Cumings, Mrs. John Bradley (Florence Briggs Th...  female  38.0      1   \n",
       "2                             Heikkinen, Miss. Laina  female  26.0      0   \n",
       "3       Futrelle, Mrs. Jacques Heath (Lily May Peel)  female  35.0      1   \n",
       "4                           Allen, Mr. William Henry    male  35.0      0   \n",
       "\n",
       "   Parch            Ticket     Fare Cabin Embarked  \n",
       "0      0         A/5 21171   7.2500   NaN        S  \n",
       "1      0          PC 17599  71.2833   C85        C  \n",
       "2      0  STON/O2. 3101282   7.9250   NaN        S  \n",
       "3      0            113803  53.1000  C123        S  \n",
       "4      0            373450   8.0500   NaN        S  "
      ]
     },
     "execution_count": 1,
     "metadata": {},
     "output_type": "execute_result"
    }
   ],
   "source": [
    "import numpy as np\n",
    "import pandas as ps\n",
    "import matplotlib.pyplot as plt\n",
    "import os\n",
    "\n",
    "def load_titanic_data(filename):\n",
    "    csv_path = os.path.join(\"data\", filename)\n",
    "    return ps.read_csv(csv_path)\n",
    "train_data = load_titanic_data(\"train.csv\")\n",
    "train_data.head()"
   ]
  },
  {
   "cell_type": "markdown",
   "id": "134babb4",
   "metadata": {},
   "source": [
    "## Missing Values"
   ]
  },
  {
   "cell_type": "markdown",
   "id": "3ad916e3",
   "metadata": {},
   "source": [
    "Nasz zbiór danych zawiera null values w trzech kolumnach\n",
    "1. Age - będziemy estymować wiek z innych wartości\n",
    "2. Cabin - tutaj aż __70%__ wartości jest nullowych. Zajmiemy się tym później, ale również postaramy się z tego wydobyć jakąś informacje\n",
    "3. Embarked - dwie wartości nullowe w całym zbiorze. Będziemy to pole nadpisywać wartością najczęściej występującą."
   ]
  },
  {
   "cell_type": "code",
   "execution_count": 2,
   "id": "d151913a",
   "metadata": {},
   "outputs": [
    {
     "data": {
      "text/plain": [
       "PassengerId      0\n",
       "Survived         0\n",
       "Pclass           0\n",
       "Name             0\n",
       "Sex              0\n",
       "Age            177\n",
       "SibSp            0\n",
       "Parch            0\n",
       "Ticket           0\n",
       "Fare             0\n",
       "Cabin          687\n",
       "Embarked         2\n",
       "dtype: int64"
      ]
     },
     "execution_count": 2,
     "metadata": {},
     "output_type": "execute_result"
    }
   ],
   "source": [
    "train_data.isna().sum()"
   ]
  },
  {
   "cell_type": "markdown",
   "id": "722ac504",
   "metadata": {},
   "source": [
    "## Analiza kolumn"
   ]
  },
  {
   "cell_type": "markdown",
   "id": "2ea26f4c",
   "metadata": {},
   "source": [
    "### PassengerId"
   ]
  },
  {
   "cell_type": "markdown",
   "id": "e4aa98f9",
   "metadata": {},
   "source": [
    "Wartość służąca jedynie indeksowaniu danych. Usuniemy ją ze zbiory w preprocesingu."
   ]
  },
  {
   "cell_type": "markdown",
   "id": "d26eff48",
   "metadata": {},
   "source": [
    "### Survived"
   ]
  },
  {
   "cell_type": "markdown",
   "id": "4da687ec",
   "metadata": {},
   "source": [
    "Wartość docelowa posiadająca dwa labele:\n",
    "1. Survived = 1\n",
    "2. Died = 0\n",
    "\n",
    "Prawdopodobieństwo między labelami jest w miarę równe, więc będziemy mogli użyć accuaracy do oceny modelu"
   ]
  },
  {
   "cell_type": "code",
   "execution_count": 3,
   "id": "841aa6f1",
   "metadata": {},
   "outputs": [
    {
     "data": {
      "image/png": "[encoded data removed]",
      "text/plain": [
       "<Figure size 640x480 with 1 Axes>"
      ]
     },
     "metadata": {},
     "output_type": "display_data"
    }
   ],
   "source": [
    "counts = train_data.groupby(['Survived'])['PassengerId'].count()\n",
    "plt.pie(counts, labels = [\"Died\", \"Survived\"], autopct='%.0f%%')\n",
    "plt.show() "
   ]
  },
  {
   "cell_type": "markdown",
   "id": "82e36db2",
   "metadata": {},
   "source": [
    "### Name"
   ]
  },
  {
   "cell_type": "markdown",
   "id": "d6fc17b3",
   "metadata": {},
   "source": [
    "Kolumna informuje nas o imieniu pasażera. Możemy z tej kolumny wydobyć informację o tytule, jakim posługiwał się pasażer (mr, mrs, miss itd.). Pomoże nam to między innymi do szacowania wieku przy wypełnianiu Null Values oraz samo pole tytuł będziemy traktować, jako kategoryczne."
   ]
  },
  {
   "cell_type": "markdown",
   "id": "634234a6",
   "metadata": {},
   "source": [
    "### Ticket"
   ]
  },
  {
   "cell_type": "markdown",
   "id": "5e34973c",
   "metadata": {},
   "source": [
    "Kolumna zawierająca numer biletu. Nie będziemy brali tej kolumny pod uwagę"
   ]
  },
  {
   "cell_type": "markdown",
   "id": "62117f2b",
   "metadata": {},
   "source": [
    "### Sex  ( ͡° ͜ʖ ͡°)          "
   ]
  },
  {
   "cell_type": "markdown",
   "id": "75efa6e4",
   "metadata": {},
   "source": [
    "Przekonwertujemy tę kolumnę na wartości liczbowe. Z danych bezpośrednio wynika, że mężczyzn przeżyło procentowo zdecydowanie mniej niż kobiet"
   ]
  },
  {
   "cell_type": "code",
   "execution_count": 4,
   "id": "93855ce7",
   "metadata": {},
   "outputs": [
    {
     "data": {
      "image/png": "[encoded data removed]",
      "text/plain": [
       "<Figure size 1300x500 with 2 Axes>"
      ]
     },
     "metadata": {},
     "output_type": "display_data"
    }
   ],
   "source": [
    "import seaborn as sns\n",
    "counts = train_data.groupby(['Sex'])['PassengerId'].count()\n",
    "fig, ax = plt.subplots(1, 2, figsize=(13, 5))\n",
    "ax[0].pie(counts, labels = [\"Female\", \"Male\"], autopct='%.0f%%')\n",
    "sns.countplot(ax = ax[1], x='Sex', hue='Survived', data=train_data)\n",
    "ax[0].title.set_text(\"Płeć pasażerów\")\n",
    "ax[1].title.set_text(\"Pasażerowie z podziałem na płcie\")\n",
    "plt.show() "
   ]
  },
  {
   "cell_type": "markdown",
   "id": "d910cfd7",
   "metadata": {},
   "source": [
    "### Pclass"
   ]
  },
  {
   "cell_type": "markdown",
   "id": "7ef61774",
   "metadata": {},
   "source": [
    "Wartość numeryczna informująca, w jakiej klasie był pasażer. Istnieje duża korelacja między klasą a szansą przeżycia pasażera.\n",
    "Pole to będzie traktowane jako numerycznie, ponieważ szansa przeżycia pasażera jest proporcjonalna do wysokości klasy."
   ]
  },
  {
   "cell_type": "code",
   "execution_count": 5,
   "id": "b19d88d8",
   "metadata": {},
   "outputs": [
    {
     "data": {
      "image/png": "[encoded data removed]",
      "text/plain": [
       "<Figure size 1300x500 with 2 Axes>"
      ]
     },
     "metadata": {},
     "output_type": "display_data"
    }
   ],
   "source": [
    "import seaborn as sns\n",
    "counts = train_data.groupby(['Pclass'])['PassengerId'].count()\n",
    "fig, ax = plt.subplots(1, 2, figsize=(13, 5))\n",
    "ax[0].pie(counts, labels = [\"Class 1\", \"Class 2\", \"Class 3\"], autopct='%.0f%%')\n",
    "sns.countplot(ax = ax[1], x='Pclass', hue='Survived', data=train_data)\n",
    "ax[0].title.set_text(\"Klasa pasażerów\")\n",
    "ax[1].title.set_text(\"Pasażerowie z podziałem na klasy\")\n",
    "plt.show() "
   ]
  },
  {
   "cell_type": "markdown",
   "id": "0faca5bc",
   "metadata": {},
   "source": [
    "### Embarked"
   ]
  },
  {
   "cell_type": "markdown",
   "id": "01f1d932",
   "metadata": {},
   "source": [
    "Zmienna informująca o miejscu zaokrętowania pasażera. Tutaj też istnieją korelacja ze wskaźnikiem przeżycia, ale nie jest tak hierarchiczna, jak w przypadku Pclass. Dlatego tą zmienną będziemy traktować, jako kategoryczną."
   ]
  },
  {
   "cell_type": "code",
   "execution_count": 6,
   "id": "2bf42064",
   "metadata": {},
   "outputs": [
    {
     "data": {
      "image/png": "[encoded data removed]",
      "text/plain": [
       "<Figure size 1300x500 with 2 Axes>"
      ]
     },
     "metadata": {},
     "output_type": "display_data"
    }
   ],
   "source": [
    "counts = train_data.groupby(['Embarked'])['PassengerId'].count()\n",
    "fig, ax = plt.subplots(1, 2, figsize=(13, 5))\n",
    "ax[0].pie(counts, labels = [\"C\", \"Q\", \"S\"], autopct='%.0f%%')\n",
    "sns.countplot(ax = ax[1], x='Embarked', hue='Survived', data=train_data)\n",
    "ax[0].title.set_text(\"Port zaokrętowania pasażerów\")\n",
    "ax[1].title.set_text(\"Pasażerowie z podziałem na port zaokrętowania\")\n",
    "plt.show() "
   ]
  },
  {
   "cell_type": "code",
   "execution_count": 7,
   "id": "233ed075",
   "metadata": {},
   "outputs": [
    {
     "data": {
      "image/png": "[encoded data removed]",
      "text/plain": [
       "<Figure size 640x480 with 1 Axes>"
      ]
     },
     "metadata": {},
     "output_type": "display_data"
    }
   ],
   "source": [
    "sns.countplot(x='Embarked', hue='Pclass', data=train_data)\n",
    "plt.title(\"Zaokrętowanie z podziałem na klasy\")\n",
    "plt.show() "
   ]
  },
  {
   "cell_type": "markdown",
   "id": "79bacad4",
   "metadata": {},
   "source": [
    "### Age"
   ]
  },
  {
   "cell_type": "markdown",
   "id": "e9461a75",
   "metadata": {},
   "source": [
    "Z poniższych wykresów wynika, że największą śmiertelność podczas katastrofy była w grupie ludzi w średnim wieku. Ludzie koło 80 i dzieci w większości przeżyły.\n",
    "\n",
    "Użyjemy tej kolumny, jako numerycznej"
   ]
  },
  {
   "cell_type": "code",
   "execution_count": 8,
   "id": "4c017dd7",
   "metadata": {},
   "outputs": [
    {
     "data": {
      "text/plain": [
       "Text(0.5, 1.0, 'Histogram pasażerów w zależności od wieku')"
      ]
     },
     "execution_count": 8,
     "metadata": {},
     "output_type": "execute_result"
    },
    {
     "data": {
      "image/png": "[encoded data removed]",
      "text/plain": [
       "<Figure size 640x480 with 1 Axes>"
      ]
     },
     "metadata": {},
     "output_type": "display_data"
    }
   ],
   "source": [
    "sns.histplot(data=train_data, hue=\"Survived\", x=\"Age\")\n",
    "plt.title(\"Histogram pasażerów w zależności od wieku\")"
   ]
  },
  {
   "cell_type": "markdown",
   "id": "b0039a2e",
   "metadata": {},
   "source": [
    "Aby ułatwić generalizacje danych, spróbujemy przekonwertować tę kolumnę jako grupy wiekowe też zapisane jako wartość numeryczna. Możliwe, że dzięki temu nasze modele lepiej będą uogólniać dane."
   ]
  },
  {
   "cell_type": "code",
   "execution_count": 9,
   "id": "f72a218a",
   "metadata": {},
   "outputs": [
    {
     "data": {
      "image/png": "[encoded data removed]",
      "text/plain": [
       "<Figure size 1300x1200 with 4 Axes>"
      ]
     },
     "metadata": {},
     "output_type": "display_data"
    }
   ],
   "source": [
    "fig, ax = plt.subplots(2, 2, figsize=(13, 12))\n",
    "sns.histplot(ax = ax[0][0], data=train_data[(train_data['Age'] > 0) & (train_data['Age'] <= 20)], hue=\"Survived\", x=\"Age\")\n",
    "sns.histplot(ax = ax[0][1], data=train_data[(train_data['Age'] > 20) & (train_data['Age'] <= 40)], hue=\"Survived\", x=\"Age\")\n",
    "sns.histplot(ax = ax[1][0], data=train_data[(train_data['Age'] > 40) & (train_data['Age'] <= 60)], hue=\"Survived\", x=\"Age\")\n",
    "sns.histplot(ax = ax[1][1], data=train_data[(train_data['Age'] > 60)], hue=\"Survived\", x=\"Age\")\n",
    "ax[0][0].title.set_text(\"Histogram pasażerów w wieku poniżej 20\")\n",
    "ax[0][1].title.set_text(\"Histogram pasażerów w wieku 20 - 40\")\n",
    "ax[1][0].title.set_text(\"Histogram pasażerów w wieku 40 - 60\")\n",
    "ax[1][1].title.set_text(\"Histogram pasażerów w wieku powyżej 60\")\n",
    "plt.show() "
   ]
  },
  {
   "cell_type": "markdown",
   "id": "201ea754",
   "metadata": {},
   "source": [
    "### Fare"
   ]
  },
  {
   "cell_type": "markdown",
   "id": "c39a10e2",
   "metadata": {},
   "source": [
    "Kolumna zawiera informację o cenie biletu pasażera. Cena biletu jest wprost skorelowana z szansą na przeżycie. Tak samo, jak w przypadku kolumny _Age_ podzielimy tę kolumnę na grupy, aby wymusić generalizację danych."
   ]
  },
  {
   "cell_type": "code",
   "execution_count": 10,
   "id": "1462f900",
   "metadata": {},
   "outputs": [
    {
     "data": {
      "image/png": "[encoded data removed]",
      "text/plain": [
       "<Figure size 1300x1200 with 4 Axes>"
      ]
     },
     "metadata": {},
     "output_type": "display_data"
    }
   ],
   "source": [
    "fig, ax = plt.subplots(2, 2, figsize=(13, 12))\n",
    "sns.histplot(ax = ax[0][0], data=train_data, hue=\"Survived\", x=\"Fare\")\n",
    "sns.histplot(ax = ax[0][1], data=train_data[train_data['Pclass'] == 1], hue=\"Survived\", x=\"Fare\")\n",
    "sns.histplot(ax = ax[1][0], data=train_data[train_data['Pclass'] == 2], hue=\"Survived\", x=\"Fare\")\n",
    "sns.histplot(ax = ax[1][1], data=train_data[train_data['Pclass'] == 3], hue=\"Survived\", x=\"Fare\")\n",
    "ax[0][0].title.set_text(\"Histogram pasażerów w zależności od ceny biletu\")\n",
    "ax[0][1].title.set_text(\"Histogram pasażerów w zależności od ceny biletu w klasie 1\")\n",
    "ax[1][0].title.set_text(\"Histogram pasażerów w zależności od ceny biletu w klasie 2\")\n",
    "ax[1][1].title.set_text(\"Histogram pasażerów w zależności od ceny biletu w klasie 3\")\n",
    "plt.show() "
   ]
  },
  {
   "cell_type": "code",
   "execution_count": 11,
   "id": "55e598f8",
   "metadata": {},
   "outputs": [
    {
     "data": {
      "image/png": "[encoded data removed]",
      "text/plain": [
       "<Figure size 640x480 with 1 Axes>"
      ]
     },
     "metadata": {},
     "output_type": "display_data"
    }
   ],
   "source": [
    "sns.histplot( data=train_data, hue=\"Survived\", x=\"Fare\")\n",
    "plt.xlim(0, 9.5)\n",
    "plt.title(\"Histogram pasażerów w zależności od ceny bieletu poniżej 9.5£\")\n",
    "plt.show() "
   ]
  },
  {
   "cell_type": "code",
   "execution_count": 12,
   "id": "b8700556",
   "metadata": {},
   "outputs": [
    {
     "data": {
      "image/png": "[encoded data removed]",
      "text/plain": [
       "<Figure size 640x480 with 1 Axes>"
      ]
     },
     "metadata": {},
     "output_type": "display_data"
    }
   ],
   "source": [
    "sns.histplot( data=train_data, hue=\"Survived\", x=\"Fare\")\n",
    "plt.xlim(9.5, 50)\n",
    "plt.ylim(0, 100)\n",
    "plt.title(\"Histogram pasażerów w zależności od ceny bieletu od 9.5£ do 50£\")\n",
    "plt.show()"
   ]
  },
  {
   "cell_type": "code",
   "execution_count": 13,
   "id": "d90529fe",
   "metadata": {},
   "outputs": [
    {
     "data": {
      "image/png": "[encoded data removed]",
      "text/plain": [
       "<Figure size 640x480 with 1 Axes>"
      ]
     },
     "metadata": {},
     "output_type": "display_data"
    }
   ],
   "source": [
    "sns.histplot( data=train_data, hue=\"Survived\", x=\"Fare\")\n",
    "plt.xlim(50, 300)\n",
    "plt.ylim(0, 25)\n",
    "plt.title(\"Histogram pasażerów w zależności od ceny bieletu od 50£ do 300£\")\n",
    "plt.show()"
   ]
  },
  {
   "cell_type": "code",
   "execution_count": 14,
   "id": "f9188a13",
   "metadata": {},
   "outputs": [
    {
     "data": {
      "image/png": "[encoded data removed]",
      "text/plain": [
       "<Figure size 640x480 with 1 Axes>"
      ]
     },
     "metadata": {},
     "output_type": "display_data"
    }
   ],
   "source": [
    "sns.histplot( data=train_data, hue=\"Survived\", x=\"Fare\")\n",
    "plt.xlim(left = 300)\n",
    "plt.ylim(0, 5)\n",
    "plt.title(\"Histogram pasażerów w zależności od ceny bieletu powyżej 300£\")\n",
    "plt.show()"
   ]
  },
  {
   "cell_type": "code",
   "execution_count": 15,
   "id": "8a3692e5",
   "metadata": {},
   "outputs": [
    {
     "data": {
      "image/png": "[encoded data removed]",
      "text/plain": [
       "<Figure size 1300x500 with 2 Axes>"
      ]
     },
     "metadata": {},
     "output_type": "display_data"
    }
   ],
   "source": [
    "fig, ax = plt.subplots(1, 2, figsize=(13, 5))\n",
    "sns.histplot(ax = ax[0], data=train_data[train_data['Survived'] == 0], x=\"Fare\")\n",
    "sns.histplot(ax = ax[1], data=train_data[train_data['Survived'] == 1], x=\"Fare\")\n",
    "ax[0].title.set_text(\"Histogram osób poległych w zależności od ceny bieletu\")\n",
    "ax[1].title.set_text(\"Histogram ocalałych w zależności od ceny bieletu\")\n",
    "plt.show() "
   ]
  },
  {
   "cell_type": "markdown",
   "id": "281eb62b",
   "metadata": {},
   "source": [
    "### Cabin"
   ]
  },
  {
   "cell_type": "markdown",
   "id": "c42de9a4",
   "metadata": {},
   "source": [
    "Kolumna cabin zawiera informacje o kabinie przypisanej do pasażera. Możemy z niej wydobyć nr pokładu, gdzie znajduje się kabina pasażera.\n",
    "W większości jednak kolumna jest wypełniona Null values. Jest to informacja, której później użyjemy w preprocesingu."
   ]
  },
  {
   "cell_type": "markdown",
   "id": "72ecc129",
   "metadata": {},
   "source": [
    "### SibSp, Parch"
   ]
  },
  {
   "cell_type": "markdown",
   "id": "8341ab55",
   "metadata": {},
   "source": [
    "Kolumna SibSp zawiera informacje o ilości rodzeństwa pasażera na statku\n",
    "\n",
    "Kolumna Parch zawiera informacje o ilości dzieci pasażera na statku\n",
    "\n",
    "Aby uogólnić dane, dodamy do siebie SibSp i Parch tworząc nową własność"
   ]
  },
  {
   "cell_type": "code",
   "execution_count": 16,
   "id": "206e1421",
   "metadata": {},
   "outputs": [
    {
     "data": {
      "text/html": [
       "<div>\n",
       "<style scoped>\n",
       "    .dataframe tbody tr th:only-of-type {\n",
       "        vertical-align: middle;\n",
       "    }\n",
       "\n",
       "    .dataframe tbody tr th {\n",
       "        vertical-align: top;\n",
       "    }\n",
       "\n",
       "    .dataframe thead th {\n",
       "        text-align: right;\n",
       "    }\n",
       "</style>\n",
       "<table border=\"1\" class=\"dataframe\">\n",
       "  <thead>\n",
       "    <tr style=\"text-align: right;\">\n",
       "      <th></th>\n",
       "      <th>PassengerId</th>\n",
       "      <th>Survived</th>\n",
       "      <th>Pclass</th>\n",
       "      <th>Name</th>\n",
       "      <th>Sex</th>\n",
       "      <th>Age</th>\n",
       "      <th>SibSp</th>\n",
       "      <th>Parch</th>\n",
       "      <th>Ticket</th>\n",
       "      <th>Fare</th>\n",
       "      <th>Cabin</th>\n",
       "      <th>Embarked</th>\n",
       "    </tr>\n",
       "  </thead>\n",
       "  <tbody>\n",
       "    <tr>\n",
       "      <th>0</th>\n",
       "      <td>1</td>\n",
       "      <td>0</td>\n",
       "      <td>3</td>\n",
       "      <td>Braund, Mr. Owen Harris</td>\n",
       "      <td>male</td>\n",
       "      <td>22.0</td>\n",
       "      <td>1</td>\n",
       "      <td>0</td>\n",
       "      <td>A/5 21171</td>\n",
       "      <td>7.2500</td>\n",
       "      <td>NaN</td>\n",
       "      <td>S</td>\n",
       "    </tr>\n",
       "    <tr>\n",
       "      <th>1</th>\n",
       "      <td>2</td>\n",
       "      <td>1</td>\n",
       "      <td>1</td>\n",
       "      <td>Cumings, Mrs. John Bradley (Florence Briggs Th...</td>\n",
       "      <td>female</td>\n",
       "      <td>38.0</td>\n",
       "      <td>1</td>\n",
       "      <td>0</td>\n",
       "      <td>PC 17599</td>\n",
       "      <td>71.2833</td>\n",
       "      <td>C85</td>\n",
       "      <td>C</td>\n",
       "    </tr>\n",
       "    <tr>\n",
       "      <th>2</th>\n",
       "      <td>3</td>\n",
       "      <td>1</td>\n",
       "      <td>3</td>\n",
       "      <td>Heikkinen, Miss. Laina</td>\n",
       "      <td>female</td>\n",
       "      <td>26.0</td>\n",
       "      <td>0</td>\n",
       "      <td>0</td>\n",
       "      <td>STON/O2. 3101282</td>\n",
       "      <td>7.9250</td>\n",
       "      <td>NaN</td>\n",
       "      <td>S</td>\n",
       "    </tr>\n",
       "    <tr>\n",
       "      <th>3</th>\n",
       "      <td>4</td>\n",
       "      <td>1</td>\n",
       "      <td>1</td>\n",
       "      <td>Futrelle, Mrs. Jacques Heath (Lily May Peel)</td>\n",
       "      <td>female</td>\n",
       "      <td>35.0</td>\n",
       "      <td>1</td>\n",
       "      <td>0</td>\n",
       "      <td>113803</td>\n",
       "      <td>53.1000</td>\n",
       "      <td>C123</td>\n",
       "      <td>S</td>\n",
       "    </tr>\n",
       "    <tr>\n",
       "      <th>4</th>\n",
       "      <td>5</td>\n",
       "      <td>0</td>\n",
       "      <td>3</td>\n",
       "      <td>Allen, Mr. William Henry</td>\n",
       "      <td>male</td>\n",
       "      <td>35.0</td>\n",
       "      <td>0</td>\n",
       "      <td>0</td>\n",
       "      <td>373450</td>\n",
       "      <td>8.0500</td>\n",
       "      <td>NaN</td>\n",
       "      <td>S</td>\n",
       "    </tr>\n",
       "    <tr>\n",
       "      <th>...</th>\n",
       "      <td>...</td>\n",
       "      <td>...</td>\n",
       "      <td>...</td>\n",
       "      <td>...</td>\n",
       "      <td>...</td>\n",
       "      <td>...</td>\n",
       "      <td>...</td>\n",
       "      <td>...</td>\n",
       "      <td>...</td>\n",
       "      <td>...</td>\n",
       "      <td>...</td>\n",
       "      <td>...</td>\n",
       "    </tr>\n",
       "    <tr>\n",
       "      <th>886</th>\n",
       "      <td>887</td>\n",
       "      <td>0</td>\n",
       "      <td>2</td>\n",
       "      <td>Montvila, Rev. Juozas</td>\n",
       "      <td>male</td>\n",
       "      <td>27.0</td>\n",
       "      <td>0</td>\n",
       "      <td>0</td>\n",
       "      <td>211536</td>\n",
       "      <td>13.0000</td>\n",
       "      <td>NaN</td>\n",
       "      <td>S</td>\n",
       "    </tr>\n",
       "    <tr>\n",
       "      <th>887</th>\n",
       "      <td>888</td>\n",
       "      <td>1</td>\n",
       "      <td>1</td>\n",
       "      <td>Graham, Miss. Margaret Edith</td>\n",
       "      <td>female</td>\n",
       "      <td>19.0</td>\n",
       "      <td>0</td>\n",
       "      <td>0</td>\n",
       "      <td>112053</td>\n",
       "      <td>30.0000</td>\n",
       "      <td>B42</td>\n",
       "      <td>S</td>\n",
       "    </tr>\n",
       "    <tr>\n",
       "      <th>888</th>\n",
       "      <td>889</td>\n",
       "      <td>0</td>\n",
       "      <td>3</td>\n",
       "      <td>Johnston, Miss. Catherine Helen \"Carrie\"</td>\n",
       "      <td>female</td>\n",
       "      <td>NaN</td>\n",
       "      <td>1</td>\n",
       "      <td>2</td>\n",
       "      <td>W./C. 6607</td>\n",
       "      <td>23.4500</td>\n",
       "      <td>NaN</td>\n",
       "      <td>S</td>\n",
       "    </tr>\n",
       "    <tr>\n",
       "      <th>889</th>\n",
       "      <td>890</td>\n",
       "      <td>1</td>\n",
       "      <td>1</td>\n",
       "      <td>Behr, Mr. Karl Howell</td>\n",
       "      <td>male</td>\n",
       "      <td>26.0</td>\n",
       "      <td>0</td>\n",
       "      <td>0</td>\n",
       "      <td>111369</td>\n",
       "      <td>30.0000</td>\n",
       "      <td>C148</td>\n",
       "      <td>C</td>\n",
       "    </tr>\n",
       "    <tr>\n",
       "      <th>890</th>\n",
       "      <td>891</td>\n",
       "      <td>0</td>\n",
       "      <td>3</td>\n",
       "      <td>Dooley, Mr. Patrick</td>\n",
       "      <td>male</td>\n",
       "      <td>32.0</td>\n",
       "      <td>0</td>\n",
       "      <td>0</td>\n",
       "      <td>370376</td>\n",
       "      <td>7.7500</td>\n",
       "      <td>NaN</td>\n",
       "      <td>Q</td>\n",
       "    </tr>\n",
       "  </tbody>\n",
       "</table>\n",
       "<p>891 rows × 12 columns</p>\n",
       "</div>"
      ],
      "text/plain": [
       "     PassengerId  Survived  Pclass  \\\n",
       "0              1         0       3   \n",
       "1              2         1       1   \n",
       "2              3         1       3   \n",
       "3              4         1       1   \n",
       "4              5         0       3   \n",
       "..           ...       ...     ...   \n",
       "886          887         0       2   \n",
       "887          888         1       1   \n",
       "888          889         0       3   \n",
       "889          890         1       1   \n",
       "890          891         0       3   \n",
       "\n",
       "                                                  Name     Sex   Age  SibSp  \\\n",
       "0                              Braund, Mr. Owen Harris    male  22.0      1   \n",
       "1    Cumings, Mrs. John Bradley (Florence Briggs Th...  female  38.0      1   \n",
       "2                               Heikkinen, Miss. Laina  female  26.0      0   \n",
       "3         Futrelle, Mrs. Jacques Heath (Lily May Peel)  female  35.0      1   \n",
       "4                             Allen, Mr. William Henry    male  35.0      0   \n",
       "..                                                 ...     ...   ...    ...   \n",
       "886                              Montvila, Rev. Juozas    male  27.0      0   \n",
       "887                       Graham, Miss. Margaret Edith  female  19.0      0   \n",
       "888           Johnston, Miss. Catherine Helen \"Carrie\"  female   NaN      1   \n",
       "889                              Behr, Mr. Karl Howell    male  26.0      0   \n",
       "890                                Dooley, Mr. Patrick    male  32.0      0   \n",
       "\n",
       "     Parch            Ticket     Fare Cabin Embarked  \n",
       "0        0         A/5 21171   7.2500   NaN        S  \n",
       "1        0          PC 17599  71.2833   C85        C  \n",
       "2        0  STON/O2. 3101282   7.9250   NaN        S  \n",
       "3        0            113803  53.1000  C123        S  \n",
       "4        0            373450   8.0500   NaN        S  \n",
       "..     ...               ...      ...   ...      ...  \n",
       "886      0            211536  13.0000   NaN        S  \n",
       "887      0            112053  30.0000   B42        S  \n",
       "888      2        W./C. 6607  23.4500   NaN        S  \n",
       "889      0            111369  30.0000  C148        C  \n",
       "890      0            370376   7.7500   NaN        Q  \n",
       "\n",
       "[891 rows x 12 columns]"
      ]
     },
     "execution_count": 16,
     "metadata": {},
     "output_type": "execute_result"
    }
   ],
   "source": [
    "process_data = train_data\n",
    "process_data"
   ]
  },
  {
   "cell_type": "markdown",
   "id": "cd040582",
   "metadata": {},
   "source": [
    "# Pipeliny"
   ]
  },
  {
   "cell_type": "markdown",
   "id": "8907592b",
   "metadata": {},
   "source": [
    "### Usunięcie zbędnych kolumn"
   ]
  },
  {
   "cell_type": "markdown",
   "id": "735d6498",
   "metadata": {},
   "source": [
    "Zacznijmy od stworzenia klasy usuwającej kolumny w pipelinie"
   ]
  },
  {
   "cell_type": "code",
   "execution_count": 17,
   "id": "a043de6c",
   "metadata": {},
   "outputs": [
    {
     "data": {
      "text/html": [
       "<div>\n",
       "<style scoped>\n",
       "    .dataframe tbody tr th:only-of-type {\n",
       "        vertical-align: middle;\n",
       "    }\n",
       "\n",
       "    .dataframe tbody tr th {\n",
       "        vertical-align: top;\n",
       "    }\n",
       "\n",
       "    .dataframe thead th {\n",
       "        text-align: right;\n",
       "    }\n",
       "</style>\n",
       "<table border=\"1\" class=\"dataframe\">\n",
       "  <thead>\n",
       "    <tr style=\"text-align: right;\">\n",
       "      <th></th>\n",
       "      <th>Survived</th>\n",
       "      <th>Pclass</th>\n",
       "      <th>Name</th>\n",
       "      <th>Sex</th>\n",
       "      <th>Age</th>\n",
       "      <th>SibSp</th>\n",
       "      <th>Parch</th>\n",
       "      <th>Fare</th>\n",
       "      <th>Cabin</th>\n",
       "      <th>Embarked</th>\n",
       "    </tr>\n",
       "  </thead>\n",
       "  <tbody>\n",
       "    <tr>\n",
       "      <th>0</th>\n",
       "      <td>0</td>\n",
       "      <td>3</td>\n",
       "      <td>Braund, Mr. Owen Harris</td>\n",
       "      <td>male</td>\n",
       "      <td>22.0</td>\n",
       "      <td>1</td>\n",
       "      <td>0</td>\n",
       "      <td>7.2500</td>\n",
       "      <td>NaN</td>\n",
       "      <td>S</td>\n",
       "    </tr>\n",
       "    <tr>\n",
       "      <th>1</th>\n",
       "      <td>1</td>\n",
       "      <td>1</td>\n",
       "      <td>Cumings, Mrs. John Bradley (Florence Briggs Th...</td>\n",
       "      <td>female</td>\n",
       "      <td>38.0</td>\n",
       "      <td>1</td>\n",
       "      <td>0</td>\n",
       "      <td>71.2833</td>\n",
       "      <td>C85</td>\n",
       "      <td>C</td>\n",
       "    </tr>\n",
       "    <tr>\n",
       "      <th>2</th>\n",
       "      <td>1</td>\n",
       "      <td>3</td>\n",
       "      <td>Heikkinen, Miss. Laina</td>\n",
       "      <td>female</td>\n",
       "      <td>26.0</td>\n",
       "      <td>0</td>\n",
       "      <td>0</td>\n",
       "      <td>7.9250</td>\n",
       "      <td>NaN</td>\n",
       "      <td>S</td>\n",
       "    </tr>\n",
       "    <tr>\n",
       "      <th>3</th>\n",
       "      <td>1</td>\n",
       "      <td>1</td>\n",
       "      <td>Futrelle, Mrs. Jacques Heath (Lily May Peel)</td>\n",
       "      <td>female</td>\n",
       "      <td>35.0</td>\n",
       "      <td>1</td>\n",
       "      <td>0</td>\n",
       "      <td>53.1000</td>\n",
       "      <td>C123</td>\n",
       "      <td>S</td>\n",
       "    </tr>\n",
       "    <tr>\n",
       "      <th>4</th>\n",
       "      <td>0</td>\n",
       "      <td>3</td>\n",
       "      <td>Allen, Mr. William Henry</td>\n",
       "      <td>male</td>\n",
       "      <td>35.0</td>\n",
       "      <td>0</td>\n",
       "      <td>0</td>\n",
       "      <td>8.0500</td>\n",
       "      <td>NaN</td>\n",
       "      <td>S</td>\n",
       "    </tr>\n",
       "    <tr>\n",
       "      <th>...</th>\n",
       "      <td>...</td>\n",
       "      <td>...</td>\n",
       "      <td>...</td>\n",
       "      <td>...</td>\n",
       "      <td>...</td>\n",
       "      <td>...</td>\n",
       "      <td>...</td>\n",
       "      <td>...</td>\n",
       "      <td>...</td>\n",
       "      <td>...</td>\n",
       "    </tr>\n",
       "    <tr>\n",
       "      <th>886</th>\n",
       "      <td>0</td>\n",
       "      <td>2</td>\n",
       "      <td>Montvila, Rev. Juozas</td>\n",
       "      <td>male</td>\n",
       "      <td>27.0</td>\n",
       "      <td>0</td>\n",
       "      <td>0</td>\n",
       "      <td>13.0000</td>\n",
       "      <td>NaN</td>\n",
       "      <td>S</td>\n",
       "    </tr>\n",
       "    <tr>\n",
       "      <th>887</th>\n",
       "      <td>1</td>\n",
       "      <td>1</td>\n",
       "      <td>Graham, Miss. Margaret Edith</td>\n",
       "      <td>female</td>\n",
       "      <td>19.0</td>\n",
       "      <td>0</td>\n",
       "      <td>0</td>\n",
       "      <td>30.0000</td>\n",
       "      <td>B42</td>\n",
       "      <td>S</td>\n",
       "    </tr>\n",
       "    <tr>\n",
       "      <th>888</th>\n",
       "      <td>0</td>\n",
       "      <td>3</td>\n",
       "      <td>Johnston, Miss. Catherine Helen \"Carrie\"</td>\n",
       "      <td>female</td>\n",
       "      <td>NaN</td>\n",
       "      <td>1</td>\n",
       "      <td>2</td>\n",
       "      <td>23.4500</td>\n",
       "      <td>NaN</td>\n",
       "      <td>S</td>\n",
       "    </tr>\n",
       "    <tr>\n",
       "      <th>889</th>\n",
       "      <td>1</td>\n",
       "      <td>1</td>\n",
       "      <td>Behr, Mr. Karl Howell</td>\n",
       "      <td>male</td>\n",
       "      <td>26.0</td>\n",
       "      <td>0</td>\n",
       "      <td>0</td>\n",
       "      <td>30.0000</td>\n",
       "      <td>C148</td>\n",
       "      <td>C</td>\n",
       "    </tr>\n",
       "    <tr>\n",
       "      <th>890</th>\n",
       "      <td>0</td>\n",
       "      <td>3</td>\n",
       "      <td>Dooley, Mr. Patrick</td>\n",
       "      <td>male</td>\n",
       "      <td>32.0</td>\n",
       "      <td>0</td>\n",
       "      <td>0</td>\n",
       "      <td>7.7500</td>\n",
       "      <td>NaN</td>\n",
       "      <td>Q</td>\n",
       "    </tr>\n",
       "  </tbody>\n",
       "</table>\n",
       "<p>891 rows × 10 columns</p>\n",
       "</div>"
      ],
      "text/plain": [
       "     Survived  Pclass                                               Name  \\\n",
       "0           0       3                            Braund, Mr. Owen Harris   \n",
       "1           1       1  Cumings, Mrs. John Bradley (Florence Briggs Th...   \n",
       "2           1       3                             Heikkinen, Miss. Laina   \n",
       "3           1       1       Futrelle, Mrs. Jacques Heath (Lily May Peel)   \n",
       "4           0       3                           Allen, Mr. William Henry   \n",
       "..        ...     ...                                                ...   \n",
       "886         0       2                              Montvila, Rev. Juozas   \n",
       "887         1       1                       Graham, Miss. Margaret Edith   \n",
       "888         0       3           Johnston, Miss. Catherine Helen \"Carrie\"   \n",
       "889         1       1                              Behr, Mr. Karl Howell   \n",
       "890         0       3                                Dooley, Mr. Patrick   \n",
       "\n",
       "        Sex   Age  SibSp  Parch     Fare Cabin Embarked  \n",
       "0      male  22.0      1      0   7.2500   NaN        S  \n",
       "1    female  38.0      1      0  71.2833   C85        C  \n",
       "2    female  26.0      0      0   7.9250   NaN        S  \n",
       "3    female  35.0      1      0  53.1000  C123        S  \n",
       "4      male  35.0      0      0   8.0500   NaN        S  \n",
       "..      ...   ...    ...    ...      ...   ...      ...  \n",
       "886    male  27.0      0      0  13.0000   NaN        S  \n",
       "887  female  19.0      0      0  30.0000   B42        S  \n",
       "888  female   NaN      1      2  23.4500   NaN        S  \n",
       "889    male  26.0      0      0  30.0000  C148        C  \n",
       "890    male  32.0      0      0   7.7500   NaN        Q  \n",
       "\n",
       "[891 rows x 10 columns]"
      ]
     },
     "execution_count": 17,
     "metadata": {},
     "output_type": "execute_result"
    }
   ],
   "source": [
    "from sklearn.base import BaseEstimator, TransformerMixin\n",
    "\n",
    "class DelColumns(BaseEstimator, TransformerMixin):\n",
    "    def __init__(self, columns):\n",
    "        self.columns = columns\n",
    "    def fit(self, X, y=None):\n",
    "        return self\n",
    "    def transform(self, X):\n",
    "        return X.drop(self.columns, axis=1)\n",
    "del_columns = DelColumns(['Ticket', 'PassengerId'])\n",
    "process_data = del_columns.transform(process_data)\n",
    "process_data"
   ]
  },
  {
   "cell_type": "markdown",
   "id": "145ed6c2",
   "metadata": {},
   "source": [
    "### Title"
   ]
  },
  {
   "cell_type": "markdown",
   "id": "4c7be2be",
   "metadata": {},
   "source": [
    "Stwórzmy klasę, która wyłuska z kolumny _Name_ informacje o tytule i zapisze ją w nowej kolumnie Title."
   ]
  },
  {
   "cell_type": "code",
   "execution_count": 18,
   "id": "0bda5ea3",
   "metadata": {},
   "outputs": [
    {
     "data": {
      "text/plain": [
       "array(['Mr.', 'Mrs.', 'Miss.', 'Master.', 'Don.', 'Rev.', 'Dr.', 'Mme.',\n",
       "       'Ms.', 'Major.', 'Lady.', 'Sir.', 'Mlle.', 'Col.', 'Capt.', 'the',\n",
       "       'Jonkheer.'], dtype=object)"
      ]
     },
     "execution_count": 18,
     "metadata": {},
     "output_type": "execute_result"
    }
   ],
   "source": [
    "import re\n",
    "\n",
    "class TitleCapture(BaseEstimator, TransformerMixin):\n",
    "    def get_title(idx, name):\n",
    "        comma_del = re.split(\",\", name)[1]\n",
    "        return re.split(\"\\s\", comma_del)[1]\n",
    "    def fit(self, X, y=None):\n",
    "        return self\n",
    "    def transform(self, X):\n",
    "        X['Title'] = X['Name'].map(self.get_title)\n",
    "        return X\n",
    "\n",
    "title_capture = TitleCapture()\n",
    "title_capture.transform(process_data)\n",
    "process_data['Title'].unique()"
   ]
  },
  {
   "cell_type": "markdown",
   "id": "5f47a0e9",
   "metadata": {},
   "source": [
    "Z wykresu poniżej widzimy pewne zależności dla każdego tytułu:\n",
    "1. Największą śmiertelność mają mężczyźni z tytułem _Mr_ (większość załogi statku była zapisana pod tym tytułem)\n",
    "2. Mężczyźni z tytułem _Master_ mają przeżywalność o wiele wyższą od reszty (tytuł master nadawało się chłopcom poniżej 18 roku życia)\n",
    "3. Mężatki (_Mrs_) miały większą przeżywalność od panien (_Miss_)"
   ]
  },
  {
   "cell_type": "code",
   "execution_count": 19,
   "id": "a444b853",
   "metadata": {},
   "outputs": [
    {
     "data": {
      "image/png": "[encoded data removed]",
      "text/plain": [
       "<Figure size 1500x1000 with 1 Axes>"
      ]
     },
     "metadata": {},
     "output_type": "display_data"
    }
   ],
   "source": [
    "plt.figure(figsize=(15, 10))\n",
    "sns.countplot(x='Title', hue='Survived', data=process_data)\n",
    "plt.title(\"Tytuły pasażerów z podziałem na ocalałych\")\n",
    "plt.show()"
   ]
  },
  {
   "cell_type": "code",
   "execution_count": 20,
   "id": "cce1caf6",
   "metadata": {},
   "outputs": [
    {
     "data": {
      "text/html": [
       "<div>\n",
       "<style scoped>\n",
       "    .dataframe tbody tr th:only-of-type {\n",
       "        vertical-align: middle;\n",
       "    }\n",
       "\n",
       "    .dataframe tbody tr th {\n",
       "        vertical-align: top;\n",
       "    }\n",
       "\n",
       "    .dataframe thead tr th {\n",
       "        text-align: left;\n",
       "    }\n",
       "\n",
       "    .dataframe thead tr:last-of-type th {\n",
       "        text-align: right;\n",
       "    }\n",
       "</style>\n",
       "<table border=\"1\" class=\"dataframe\">\n",
       "  <thead>\n",
       "    <tr>\n",
       "      <th></th>\n",
       "      <th colspan=\"3\" halign=\"left\">Age</th>\n",
       "      <th colspan=\"2\" halign=\"left\">Survived</th>\n",
       "    </tr>\n",
       "    <tr>\n",
       "      <th></th>\n",
       "      <th>max</th>\n",
       "      <th>mean</th>\n",
       "      <th>min</th>\n",
       "      <th>count</th>\n",
       "      <th>mean</th>\n",
       "    </tr>\n",
       "    <tr>\n",
       "      <th>Title</th>\n",
       "      <th></th>\n",
       "      <th></th>\n",
       "      <th></th>\n",
       "      <th></th>\n",
       "      <th></th>\n",
       "    </tr>\n",
       "  </thead>\n",
       "  <tbody>\n",
       "    <tr>\n",
       "      <th>Mr.</th>\n",
       "      <td>80.0</td>\n",
       "      <td>32.368090</td>\n",
       "      <td>11.00</td>\n",
       "      <td>517</td>\n",
       "      <td>0.156673</td>\n",
       "    </tr>\n",
       "    <tr>\n",
       "      <th>Miss.</th>\n",
       "      <td>63.0</td>\n",
       "      <td>21.773973</td>\n",
       "      <td>0.75</td>\n",
       "      <td>182</td>\n",
       "      <td>0.697802</td>\n",
       "    </tr>\n",
       "    <tr>\n",
       "      <th>Mrs.</th>\n",
       "      <td>63.0</td>\n",
       "      <td>35.898148</td>\n",
       "      <td>14.00</td>\n",
       "      <td>125</td>\n",
       "      <td>0.792000</td>\n",
       "    </tr>\n",
       "    <tr>\n",
       "      <th>Master.</th>\n",
       "      <td>12.0</td>\n",
       "      <td>4.574167</td>\n",
       "      <td>0.42</td>\n",
       "      <td>40</td>\n",
       "      <td>0.575000</td>\n",
       "    </tr>\n",
       "    <tr>\n",
       "      <th>Dr.</th>\n",
       "      <td>54.0</td>\n",
       "      <td>42.000000</td>\n",
       "      <td>23.00</td>\n",
       "      <td>7</td>\n",
       "      <td>0.428571</td>\n",
       "    </tr>\n",
       "    <tr>\n",
       "      <th>Rev.</th>\n",
       "      <td>57.0</td>\n",
       "      <td>43.166667</td>\n",
       "      <td>27.00</td>\n",
       "      <td>6</td>\n",
       "      <td>0.000000</td>\n",
       "    </tr>\n",
       "    <tr>\n",
       "      <th>Major.</th>\n",
       "      <td>52.0</td>\n",
       "      <td>48.500000</td>\n",
       "      <td>45.00</td>\n",
       "      <td>2</td>\n",
       "      <td>0.500000</td>\n",
       "    </tr>\n",
       "    <tr>\n",
       "      <th>Col.</th>\n",
       "      <td>60.0</td>\n",
       "      <td>58.000000</td>\n",
       "      <td>56.00</td>\n",
       "      <td>2</td>\n",
       "      <td>0.500000</td>\n",
       "    </tr>\n",
       "    <tr>\n",
       "      <th>Mlle.</th>\n",
       "      <td>24.0</td>\n",
       "      <td>24.000000</td>\n",
       "      <td>24.00</td>\n",
       "      <td>2</td>\n",
       "      <td>1.000000</td>\n",
       "    </tr>\n",
       "    <tr>\n",
       "      <th>Sir.</th>\n",
       "      <td>49.0</td>\n",
       "      <td>49.000000</td>\n",
       "      <td>49.00</td>\n",
       "      <td>1</td>\n",
       "      <td>1.000000</td>\n",
       "    </tr>\n",
       "    <tr>\n",
       "      <th>Ms.</th>\n",
       "      <td>28.0</td>\n",
       "      <td>28.000000</td>\n",
       "      <td>28.00</td>\n",
       "      <td>1</td>\n",
       "      <td>1.000000</td>\n",
       "    </tr>\n",
       "    <tr>\n",
       "      <th>Capt.</th>\n",
       "      <td>70.0</td>\n",
       "      <td>70.000000</td>\n",
       "      <td>70.00</td>\n",
       "      <td>1</td>\n",
       "      <td>0.000000</td>\n",
       "    </tr>\n",
       "    <tr>\n",
       "      <th>Mme.</th>\n",
       "      <td>24.0</td>\n",
       "      <td>24.000000</td>\n",
       "      <td>24.00</td>\n",
       "      <td>1</td>\n",
       "      <td>1.000000</td>\n",
       "    </tr>\n",
       "    <tr>\n",
       "      <th>Lady.</th>\n",
       "      <td>48.0</td>\n",
       "      <td>48.000000</td>\n",
       "      <td>48.00</td>\n",
       "      <td>1</td>\n",
       "      <td>1.000000</td>\n",
       "    </tr>\n",
       "    <tr>\n",
       "      <th>Jonkheer.</th>\n",
       "      <td>38.0</td>\n",
       "      <td>38.000000</td>\n",
       "      <td>38.00</td>\n",
       "      <td>1</td>\n",
       "      <td>0.000000</td>\n",
       "    </tr>\n",
       "    <tr>\n",
       "      <th>Don.</th>\n",
       "      <td>40.0</td>\n",
       "      <td>40.000000</td>\n",
       "      <td>40.00</td>\n",
       "      <td>1</td>\n",
       "      <td>0.000000</td>\n",
       "    </tr>\n",
       "    <tr>\n",
       "      <th>the</th>\n",
       "      <td>33.0</td>\n",
       "      <td>33.000000</td>\n",
       "      <td>33.00</td>\n",
       "      <td>1</td>\n",
       "      <td>1.000000</td>\n",
       "    </tr>\n",
       "  </tbody>\n",
       "</table>\n",
       "</div>"
      ],
      "text/plain": [
       "            Age                   Survived          \n",
       "            max       mean    min    count      mean\n",
       "Title                                               \n",
       "Mr.        80.0  32.368090  11.00      517  0.156673\n",
       "Miss.      63.0  21.773973   0.75      182  0.697802\n",
       "Mrs.       63.0  35.898148  14.00      125  0.792000\n",
       "Master.    12.0   4.574167   0.42       40  0.575000\n",
       "Dr.        54.0  42.000000  23.00        7  0.428571\n",
       "Rev.       57.0  43.166667  27.00        6  0.000000\n",
       "Major.     52.0  48.500000  45.00        2  0.500000\n",
       "Col.       60.0  58.000000  56.00        2  0.500000\n",
       "Mlle.      24.0  24.000000  24.00        2  1.000000\n",
       "Sir.       49.0  49.000000  49.00        1  1.000000\n",
       "Ms.        28.0  28.000000  28.00        1  1.000000\n",
       "Capt.      70.0  70.000000  70.00        1  0.000000\n",
       "Mme.       24.0  24.000000  24.00        1  1.000000\n",
       "Lady.      48.0  48.000000  48.00        1  1.000000\n",
       "Jonkheer.  38.0  38.000000  38.00        1  0.000000\n",
       "Don.       40.0  40.000000  40.00        1  0.000000\n",
       "the        33.0  33.000000  33.00        1  1.000000"
      ]
     },
     "execution_count": 20,
     "metadata": {},
     "output_type": "execute_result"
    }
   ],
   "source": [
    "titles_count = ps.pivot_table(process_data, values=['Survived', \"Age\"], index='Title', aggfunc={'Survived': ['mean', 'count'], 'Age': [\"min\", \"max\", \"mean\"]})\n",
    "titles_count.sort_values(by=[('Survived', 'count')], ascending=False)"
   ]
  },
  {
   "cell_type": "markdown",
   "id": "c67b8140",
   "metadata": {},
   "source": [
    "Niektóre tytuły występują tak rzadko, że zrobimy dla nich jeden wspólny label _Rare_. Niektóre za to przekonwertujemy na już istniejące labele"
   ]
  },
  {
   "cell_type": "markdown",
   "id": "43e9b0d1",
   "metadata": {},
   "source": [
    "### Rozpiska tytułów"
   ]
  },
  {
   "cell_type": "markdown",
   "id": "e4a5673a",
   "metadata": {},
   "source": [
    "1. Mr. - __dorosły mężczyzna__ Zostawiamy wartość w zbiorze danych\n",
    "2. Miss. - __kobieta niezamężna__. Zostawiamy wartość w zbiorze danych.\n",
    "3. Mrs. - __kobiet zamężna__. Zostawiamy wartość w zbiorze danych.\n",
    "4. Master. - __chłopiec poniżej 12 roku życia__. Zostawiamy wartość w zbiorze danych.\n",
    "5. Dr. - __doktor__. Wartość bardzo rzadko występująca. Wrzucamy wartość do zbioru _Rare_\n",
    "6. Rev. - __kleryk__. Grupa rzadko występująca, ale cechująca się zerową przeżywalnością. Zostawiamy wartość w zbiorze danych.\n",
    "7. Major. - __stopień wojskowy__. Wartość bardzo rzadko występująca. Wrzucamy wartość do zbioru _Rare_\n",
    "8. Col. - __stopień wojskowy__. Wartość bardzo rzadko występująca. Wrzucamy wartość do zbioru _Rare_\n",
    "9. Mlle. - __mademoiselle - kobieta niezamężna__. Wrzucamy wartość do zbioru Miss\n",
    "10. Sir. - __mężczyzna wysoko urodzony__. Wartość bardzo rzadko występująca. Wrzucamy wartość do zbioru _Rare_\n",
    "11. Ms. - __kobieta niezamężna__. Wrzucamy wartość do zbioru Miss\n",
    "12. Capt. - __kapitan__ Usuniemy kapitana bo to wartość odstająca\n",
    "13. Mme - __Madame - kobieta zamężna__ -  Wrzucamy wartość do zbioru Mrs\n",
    "14. Lady. - __kobieta zamężna__ -  Wrzucamy wartość do zbioru Mrs\n",
    "15. Jonkheer. - __mężczyzna wysoko urodzony__- Wartość bardzo rzadko występująca. Wrzucamy wartość do zbioru _Rare_\n",
    "16. Don. - __mężczyzna wysoko urodzony__- Wartość bardzo rzadko występująca. Wrzucamy wartość do zbioru _Rare_\n",
    "17. the - __cześć jakiegoś dłuższego tytułu - mężczyzna wysoko urodzony__- Wartość bardzo rzadko występująca. Wrzucamy wartość do zbioru _Rare_"
   ]
  },
  {
   "cell_type": "code",
   "execution_count": 21,
   "id": "64b2f62b",
   "metadata": {},
   "outputs": [
    {
     "data": {
      "text/html": [
       "<div>\n",
       "<style scoped>\n",
       "    .dataframe tbody tr th:only-of-type {\n",
       "        vertical-align: middle;\n",
       "    }\n",
       "\n",
       "    .dataframe tbody tr th {\n",
       "        vertical-align: top;\n",
       "    }\n",
       "\n",
       "    .dataframe thead th {\n",
       "        text-align: right;\n",
       "    }\n",
       "</style>\n",
       "<table border=\"1\" class=\"dataframe\">\n",
       "  <thead>\n",
       "    <tr style=\"text-align: right;\">\n",
       "      <th></th>\n",
       "      <th>Survived</th>\n",
       "      <th>Pclass</th>\n",
       "      <th>Sex</th>\n",
       "      <th>Age</th>\n",
       "      <th>SibSp</th>\n",
       "      <th>Parch</th>\n",
       "      <th>Fare</th>\n",
       "      <th>Cabin</th>\n",
       "      <th>Embarked</th>\n",
       "      <th>Title</th>\n",
       "    </tr>\n",
       "  </thead>\n",
       "  <tbody>\n",
       "    <tr>\n",
       "      <th>0</th>\n",
       "      <td>0</td>\n",
       "      <td>3</td>\n",
       "      <td>male</td>\n",
       "      <td>22.0</td>\n",
       "      <td>1</td>\n",
       "      <td>0</td>\n",
       "      <td>7.2500</td>\n",
       "      <td>NaN</td>\n",
       "      <td>S</td>\n",
       "      <td>Mr.</td>\n",
       "    </tr>\n",
       "    <tr>\n",
       "      <th>1</th>\n",
       "      <td>1</td>\n",
       "      <td>1</td>\n",
       "      <td>female</td>\n",
       "      <td>38.0</td>\n",
       "      <td>1</td>\n",
       "      <td>0</td>\n",
       "      <td>71.2833</td>\n",
       "      <td>C85</td>\n",
       "      <td>C</td>\n",
       "      <td>Mrs.</td>\n",
       "    </tr>\n",
       "    <tr>\n",
       "      <th>2</th>\n",
       "      <td>1</td>\n",
       "      <td>3</td>\n",
       "      <td>female</td>\n",
       "      <td>26.0</td>\n",
       "      <td>0</td>\n",
       "      <td>0</td>\n",
       "      <td>7.9250</td>\n",
       "      <td>NaN</td>\n",
       "      <td>S</td>\n",
       "      <td>Miss.</td>\n",
       "    </tr>\n",
       "    <tr>\n",
       "      <th>3</th>\n",
       "      <td>1</td>\n",
       "      <td>1</td>\n",
       "      <td>female</td>\n",
       "      <td>35.0</td>\n",
       "      <td>1</td>\n",
       "      <td>0</td>\n",
       "      <td>53.1000</td>\n",
       "      <td>C123</td>\n",
       "      <td>S</td>\n",
       "      <td>Mrs.</td>\n",
       "    </tr>\n",
       "    <tr>\n",
       "      <th>4</th>\n",
       "      <td>0</td>\n",
       "      <td>3</td>\n",
       "      <td>male</td>\n",
       "      <td>35.0</td>\n",
       "      <td>0</td>\n",
       "      <td>0</td>\n",
       "      <td>8.0500</td>\n",
       "      <td>NaN</td>\n",
       "      <td>S</td>\n",
       "      <td>Mr.</td>\n",
       "    </tr>\n",
       "    <tr>\n",
       "      <th>...</th>\n",
       "      <td>...</td>\n",
       "      <td>...</td>\n",
       "      <td>...</td>\n",
       "      <td>...</td>\n",
       "      <td>...</td>\n",
       "      <td>...</td>\n",
       "      <td>...</td>\n",
       "      <td>...</td>\n",
       "      <td>...</td>\n",
       "      <td>...</td>\n",
       "    </tr>\n",
       "    <tr>\n",
       "      <th>886</th>\n",
       "      <td>0</td>\n",
       "      <td>2</td>\n",
       "      <td>male</td>\n",
       "      <td>27.0</td>\n",
       "      <td>0</td>\n",
       "      <td>0</td>\n",
       "      <td>13.0000</td>\n",
       "      <td>NaN</td>\n",
       "      <td>S</td>\n",
       "      <td>Rev.</td>\n",
       "    </tr>\n",
       "    <tr>\n",
       "      <th>887</th>\n",
       "      <td>1</td>\n",
       "      <td>1</td>\n",
       "      <td>female</td>\n",
       "      <td>19.0</td>\n",
       "      <td>0</td>\n",
       "      <td>0</td>\n",
       "      <td>30.0000</td>\n",
       "      <td>B42</td>\n",
       "      <td>S</td>\n",
       "      <td>Miss.</td>\n",
       "    </tr>\n",
       "    <tr>\n",
       "      <th>888</th>\n",
       "      <td>0</td>\n",
       "      <td>3</td>\n",
       "      <td>female</td>\n",
       "      <td>NaN</td>\n",
       "      <td>1</td>\n",
       "      <td>2</td>\n",
       "      <td>23.4500</td>\n",
       "      <td>NaN</td>\n",
       "      <td>S</td>\n",
       "      <td>Miss.</td>\n",
       "    </tr>\n",
       "    <tr>\n",
       "      <th>889</th>\n",
       "      <td>1</td>\n",
       "      <td>1</td>\n",
       "      <td>male</td>\n",
       "      <td>26.0</td>\n",
       "      <td>0</td>\n",
       "      <td>0</td>\n",
       "      <td>30.0000</td>\n",
       "      <td>C148</td>\n",
       "      <td>C</td>\n",
       "      <td>Mr.</td>\n",
       "    </tr>\n",
       "    <tr>\n",
       "      <th>890</th>\n",
       "      <td>0</td>\n",
       "      <td>3</td>\n",
       "      <td>male</td>\n",
       "      <td>32.0</td>\n",
       "      <td>0</td>\n",
       "      <td>0</td>\n",
       "      <td>7.7500</td>\n",
       "      <td>NaN</td>\n",
       "      <td>Q</td>\n",
       "      <td>Mr.</td>\n",
       "    </tr>\n",
       "  </tbody>\n",
       "</table>\n",
       "<p>891 rows × 10 columns</p>\n",
       "</div>"
      ],
      "text/plain": [
       "     Survived  Pclass     Sex   Age  SibSp  Parch     Fare Cabin Embarked  \\\n",
       "0           0       3    male  22.0      1      0   7.2500   NaN        S   \n",
       "1           1       1  female  38.0      1      0  71.2833   C85        C   \n",
       "2           1       3  female  26.0      0      0   7.9250   NaN        S   \n",
       "3           1       1  female  35.0      1      0  53.1000  C123        S   \n",
       "4           0       3    male  35.0      0      0   8.0500   NaN        S   \n",
       "..        ...     ...     ...   ...    ...    ...      ...   ...      ...   \n",
       "886         0       2    male  27.0      0      0  13.0000   NaN        S   \n",
       "887         1       1  female  19.0      0      0  30.0000   B42        S   \n",
       "888         0       3  female   NaN      1      2  23.4500   NaN        S   \n",
       "889         1       1    male  26.0      0      0  30.0000  C148        C   \n",
       "890         0       3    male  32.0      0      0   7.7500   NaN        Q   \n",
       "\n",
       "     Title  \n",
       "0      Mr.  \n",
       "1     Mrs.  \n",
       "2    Miss.  \n",
       "3     Mrs.  \n",
       "4      Mr.  \n",
       "..     ...  \n",
       "886   Rev.  \n",
       "887  Miss.  \n",
       "888  Miss.  \n",
       "889    Mr.  \n",
       "890    Mr.  \n",
       "\n",
       "[891 rows x 10 columns]"
      ]
     },
     "execution_count": 21,
     "metadata": {},
     "output_type": "execute_result"
    }
   ],
   "source": [
    "class TitleConverter(BaseEstimator, TransformerMixin):\n",
    "    def fit(self, X, y=None):\n",
    "        return self\n",
    "    def transform(self, X):\n",
    "        X['Title'] = X['Title'].replace('Mlle.', 'Miss.')\n",
    "        X['Title'] = X['Title'].replace('Ms.', 'Miss.')\n",
    "        X['Title'] = X['Title'].replace('Mme.', 'Mrs.')\n",
    "        X['Title'] = X['Title'].replace('Lady.', 'Mrs.')\n",
    "        X.loc[~X['Title'].isin([\"Mr.\", \"Miss.\", \"Mrs.\", \"Master.\", \"Rev.\", \"Mlle\", \"Ms.\", \"Mme.\", \"Lady.\"]), \"Title\"] = \"Rare\"\n",
    "        return X\n",
    "\n",
    "title_converter = TitleConverter()\n",
    "process_data = title_converter.transform(process_data)\n",
    "del_columns = DelColumns(['Name'])\n",
    "process_data = del_columns.transform(process_data)\n",
    "process_data"
   ]
  },
  {
   "cell_type": "markdown",
   "id": "b85529e4",
   "metadata": {},
   "source": [
    "Każda z utworzonych przez nas grup tytułów ma charakterystyczny rozkład survive.\n",
    "\n",
    "#### Interpretacja\n",
    "- Klasa _Mr._ jest bardzo szeroką grupą, ale trafili tam wszyscy członkowie załogi. Przeżywalność wśród nich była dramatyczna niska. Ta własność może ułatwić modelowi predykcje.\n",
    "- W klasie _Rare_ znaleźli się mężczyźni z wysokim statusem społecznym (osoby wysoko urodzone lub posiadające wykształcenie). Również ich rozkład przeżywalności jest najbardziej zbliżony do ogólnego rozkładu.\n",
    "- W klasie _Rev_ nikt nie przeżył. Zakładamy, że  - generalizując - osoby duchowne mają obowiązek dzielenia się z bliźnimi, wliczając w to miejsce w szalupie ratunkowej, co nie jest efektywną strategią przetrwania na tonącym statku"
   ]
  },
  {
   "cell_type": "code",
   "execution_count": 22,
   "id": "48c28ca0",
   "metadata": {},
   "outputs": [
    {
     "data": {
      "image/png": "[encoded data removed]",
      "text/plain": [
       "<Figure size 1500x1000 with 1 Axes>"
      ]
     },
     "metadata": {},
     "output_type": "display_data"
    }
   ],
   "source": [
    "plt.figure(figsize=(15, 10))\n",
    "sns.countplot(x='Title', hue='Survived', data=process_data)\n",
    "plt.title(\"Tytuły pasażerów z podziałem na ocalałych\")\n",
    "plt.show()"
   ]
  },
  {
   "cell_type": "markdown",
   "id": "e9d35c02",
   "metadata": {},
   "source": [
    "### Deck"
   ]
  },
  {
   "cell_type": "markdown",
   "id": "177569e7",
   "metadata": {},
   "source": [
    "Z pola cabin jesteśmy w stanie wydobyć informację, na jakim pokładzie pasażer miał kabinę. Większość wartości jest równa null w tej kolumnie. Zastąpmy wartość null nową wartością - __N__. Pozostałe wartości pokładów albo zapiszmy zgodnie z ich wartością, albo nadpiszmy wszystkie wartością __P__. "
   ]
  },
  {
   "cell_type": "code",
   "execution_count": 23,
   "id": "05e1bada",
   "metadata": {},
   "outputs": [
    {
     "data": {
      "text/plain": [
       "array(['N', 'C', 'E', 'G', 'D', 'A', 'B', 'F', 'T'], dtype=object)"
      ]
     },
     "execution_count": 23,
     "metadata": {},
     "output_type": "execute_result"
    }
   ],
   "source": [
    "class DeckCapture(BaseEstimator, TransformerMixin):\n",
    "    def __init__(self, diff_deck = True):\n",
    "        self.diff_deck = diff_deck\n",
    "    def get_deck(self, cabin):\n",
    "        return \"N\" if ps.isna(cabin) else (cabin[0] if self.diff_deck else 'P')\n",
    "    def fit(self, X, y=None):\n",
    "        return self\n",
    "    def transform(self, X):\n",
    "        X['Deck'] = X['Cabin'].map(self.get_deck)\n",
    "        return X\n",
    "deck_capture = DeckCapture()   \n",
    "deck_capture.transform(process_data)\n",
    "del_columns = DelColumns(['Cabin'])\n",
    "process_data = del_columns.transform(process_data)\n",
    "process_data['Deck'].unique()"
   ]
  },
  {
   "cell_type": "markdown",
   "id": "f3360d4d",
   "metadata": {},
   "source": [
    "Pasażerowie bez wpisanej kabiny mają o wiele niższą przeżywalność niż ci ze wpisaną. Szczególnie jest to widoczna, gdy podzelujmy dane na klasy. Sam podział na kabiny jest trudny wyborem - czy go zostawić czy nadpisać wszystkie jedną wartością. Ustawimy ten parametr, jako zmienną w GridSearch"
   ]
  },
  {
   "cell_type": "code",
   "execution_count": 24,
   "id": "fd3f9cdd",
   "metadata": {},
   "outputs": [
    {
     "data": {
      "image/png": "[encoded data removed]",
      "text/plain": [
       "<Figure size 1500x1000 with 1 Axes>"
      ]
     },
     "metadata": {},
     "output_type": "display_data"
    }
   ],
   "source": [
    "plt.figure(figsize=(15, 10))\n",
    "sns.countplot(x='Deck', hue='Survived', data=process_data)\n",
    "plt.title(\"Nr pokładu pasażerów z podziałem na ocalałych\")\n",
    "plt.show()"
   ]
  },
  {
   "cell_type": "code",
   "execution_count": 25,
   "id": "38303fcb",
   "metadata": {
    "scrolled": true
   },
   "outputs": [
    {
     "data": {
      "image/png": "[encoded data removed]",
      "text/plain": [
       "<Figure size 1500x1000 with 1 Axes>"
      ]
     },
     "metadata": {},
     "output_type": "display_data"
    }
   ],
   "source": [
    "plt.figure(figsize=(15, 10))\n",
    "sns.countplot(x='Deck', hue='Pclass', data=process_data)\n",
    "plt.title(\"Histogram pasażerow z podziałem na pokłady i klasy\")\n",
    "plt.show()"
   ]
  },
  {
   "cell_type": "markdown",
   "id": "212eeac1",
   "metadata": {},
   "source": [
    "#### Interpretacja"
   ]
  },
  {
   "cell_type": "markdown",
   "id": "fbcd658f",
   "metadata": {},
   "source": [
    "Informacja o przypisanej kabinie do pasażera była głównie uzyskiwana z relacji ocalałych z katastrofy. Ofiary katastrofy z oczywistych przyczyn nie mogły udzielić informacje o swoim numerze kabiny. Dlatego istnieje tak duża korelacja między przeżywalnością a informacją o kabinie."
   ]
  },
  {
   "cell_type": "code",
   "execution_count": 26,
   "id": "39195617",
   "metadata": {},
   "outputs": [
    {
     "data": {
      "image/png": "[encoded data removed]",
      "text/plain": [
       "<Figure size 1300x500 with 2 Axes>"
      ]
     },
     "metadata": {},
     "output_type": "display_data"
    }
   ],
   "source": [
    "fig, ax = plt.subplots(1, 2, figsize=(13, 5))\n",
    "sns.countplot(ax = ax[0], x='Pclass', hue='Survived', data=process_data[process_data['Deck'] == 'N'])\n",
    "sns.countplot(ax = ax[1], x='Pclass', hue='Survived', data=process_data[process_data['Deck'] != 'N'])\n",
    "ax[0].title.set_text(\"Pasażerowie z nieznanym numerem kabiny\")\n",
    "ax[1].title.set_text(\"Pasażerowie ze znanym numerem kabiny\")\n",
    "plt.show() "
   ]
  },
  {
   "cell_type": "code",
   "execution_count": 27,
   "id": "2a0590d1",
   "metadata": {},
   "outputs": [
    {
     "data": {
      "text/html": [
       "<div>\n",
       "<style scoped>\n",
       "    .dataframe tbody tr th:only-of-type {\n",
       "        vertical-align: middle;\n",
       "    }\n",
       "\n",
       "    .dataframe tbody tr th {\n",
       "        vertical-align: top;\n",
       "    }\n",
       "\n",
       "    .dataframe thead th {\n",
       "        text-align: right;\n",
       "    }\n",
       "</style>\n",
       "<table border=\"1\" class=\"dataframe\">\n",
       "  <thead>\n",
       "    <tr style=\"text-align: right;\">\n",
       "      <th></th>\n",
       "      <th>Survived</th>\n",
       "      <th>Pclass</th>\n",
       "      <th>Sex</th>\n",
       "      <th>Age</th>\n",
       "      <th>SibSp</th>\n",
       "      <th>Parch</th>\n",
       "      <th>Fare</th>\n",
       "      <th>Embarked</th>\n",
       "      <th>Title</th>\n",
       "      <th>Deck</th>\n",
       "    </tr>\n",
       "  </thead>\n",
       "  <tbody>\n",
       "    <tr>\n",
       "      <th>0</th>\n",
       "      <td>0</td>\n",
       "      <td>3</td>\n",
       "      <td>male</td>\n",
       "      <td>22.0</td>\n",
       "      <td>1</td>\n",
       "      <td>0</td>\n",
       "      <td>7.2500</td>\n",
       "      <td>S</td>\n",
       "      <td>Mr.</td>\n",
       "      <td>N</td>\n",
       "    </tr>\n",
       "    <tr>\n",
       "      <th>1</th>\n",
       "      <td>1</td>\n",
       "      <td>1</td>\n",
       "      <td>female</td>\n",
       "      <td>38.0</td>\n",
       "      <td>1</td>\n",
       "      <td>0</td>\n",
       "      <td>71.2833</td>\n",
       "      <td>C</td>\n",
       "      <td>Mrs.</td>\n",
       "      <td>C</td>\n",
       "    </tr>\n",
       "    <tr>\n",
       "      <th>2</th>\n",
       "      <td>1</td>\n",
       "      <td>3</td>\n",
       "      <td>female</td>\n",
       "      <td>26.0</td>\n",
       "      <td>0</td>\n",
       "      <td>0</td>\n",
       "      <td>7.9250</td>\n",
       "      <td>S</td>\n",
       "      <td>Miss.</td>\n",
       "      <td>N</td>\n",
       "    </tr>\n",
       "    <tr>\n",
       "      <th>3</th>\n",
       "      <td>1</td>\n",
       "      <td>1</td>\n",
       "      <td>female</td>\n",
       "      <td>35.0</td>\n",
       "      <td>1</td>\n",
       "      <td>0</td>\n",
       "      <td>53.1000</td>\n",
       "      <td>S</td>\n",
       "      <td>Mrs.</td>\n",
       "      <td>C</td>\n",
       "    </tr>\n",
       "    <tr>\n",
       "      <th>4</th>\n",
       "      <td>0</td>\n",
       "      <td>3</td>\n",
       "      <td>male</td>\n",
       "      <td>35.0</td>\n",
       "      <td>0</td>\n",
       "      <td>0</td>\n",
       "      <td>8.0500</td>\n",
       "      <td>S</td>\n",
       "      <td>Mr.</td>\n",
       "      <td>N</td>\n",
       "    </tr>\n",
       "    <tr>\n",
       "      <th>...</th>\n",
       "      <td>...</td>\n",
       "      <td>...</td>\n",
       "      <td>...</td>\n",
       "      <td>...</td>\n",
       "      <td>...</td>\n",
       "      <td>...</td>\n",
       "      <td>...</td>\n",
       "      <td>...</td>\n",
       "      <td>...</td>\n",
       "      <td>...</td>\n",
       "    </tr>\n",
       "    <tr>\n",
       "      <th>886</th>\n",
       "      <td>0</td>\n",
       "      <td>2</td>\n",
       "      <td>male</td>\n",
       "      <td>27.0</td>\n",
       "      <td>0</td>\n",
       "      <td>0</td>\n",
       "      <td>13.0000</td>\n",
       "      <td>S</td>\n",
       "      <td>Rev.</td>\n",
       "      <td>N</td>\n",
       "    </tr>\n",
       "    <tr>\n",
       "      <th>887</th>\n",
       "      <td>1</td>\n",
       "      <td>1</td>\n",
       "      <td>female</td>\n",
       "      <td>19.0</td>\n",
       "      <td>0</td>\n",
       "      <td>0</td>\n",
       "      <td>30.0000</td>\n",
       "      <td>S</td>\n",
       "      <td>Miss.</td>\n",
       "      <td>B</td>\n",
       "    </tr>\n",
       "    <tr>\n",
       "      <th>888</th>\n",
       "      <td>0</td>\n",
       "      <td>3</td>\n",
       "      <td>female</td>\n",
       "      <td>NaN</td>\n",
       "      <td>1</td>\n",
       "      <td>2</td>\n",
       "      <td>23.4500</td>\n",
       "      <td>S</td>\n",
       "      <td>Miss.</td>\n",
       "      <td>N</td>\n",
       "    </tr>\n",
       "    <tr>\n",
       "      <th>889</th>\n",
       "      <td>1</td>\n",
       "      <td>1</td>\n",
       "      <td>male</td>\n",
       "      <td>26.0</td>\n",
       "      <td>0</td>\n",
       "      <td>0</td>\n",
       "      <td>30.0000</td>\n",
       "      <td>C</td>\n",
       "      <td>Mr.</td>\n",
       "      <td>C</td>\n",
       "    </tr>\n",
       "    <tr>\n",
       "      <th>890</th>\n",
       "      <td>0</td>\n",
       "      <td>3</td>\n",
       "      <td>male</td>\n",
       "      <td>32.0</td>\n",
       "      <td>0</td>\n",
       "      <td>0</td>\n",
       "      <td>7.7500</td>\n",
       "      <td>Q</td>\n",
       "      <td>Mr.</td>\n",
       "      <td>N</td>\n",
       "    </tr>\n",
       "  </tbody>\n",
       "</table>\n",
       "<p>891 rows × 10 columns</p>\n",
       "</div>"
      ],
      "text/plain": [
       "     Survived  Pclass     Sex   Age  SibSp  Parch     Fare Embarked  Title  \\\n",
       "0           0       3    male  22.0      1      0   7.2500        S    Mr.   \n",
       "1           1       1  female  38.0      1      0  71.2833        C   Mrs.   \n",
       "2           1       3  female  26.0      0      0   7.9250        S  Miss.   \n",
       "3           1       1  female  35.0      1      0  53.1000        S   Mrs.   \n",
       "4           0       3    male  35.0      0      0   8.0500        S    Mr.   \n",
       "..        ...     ...     ...   ...    ...    ...      ...      ...    ...   \n",
       "886         0       2    male  27.0      0      0  13.0000        S   Rev.   \n",
       "887         1       1  female  19.0      0      0  30.0000        S  Miss.   \n",
       "888         0       3  female   NaN      1      2  23.4500        S  Miss.   \n",
       "889         1       1    male  26.0      0      0  30.0000        C    Mr.   \n",
       "890         0       3    male  32.0      0      0   7.7500        Q    Mr.   \n",
       "\n",
       "    Deck  \n",
       "0      N  \n",
       "1      C  \n",
       "2      N  \n",
       "3      C  \n",
       "4      N  \n",
       "..   ...  \n",
       "886    N  \n",
       "887    B  \n",
       "888    N  \n",
       "889    C  \n",
       "890    N  \n",
       "\n",
       "[891 rows x 10 columns]"
      ]
     },
     "execution_count": 27,
     "metadata": {},
     "output_type": "execute_result"
    }
   ],
   "source": [
    "process_data"
   ]
  },
  {
   "cell_type": "markdown",
   "id": "11d28b38",
   "metadata": {},
   "source": [
    "### Family score"
   ]
  },
  {
   "cell_type": "markdown",
   "id": "1f0ca6e0",
   "metadata": {},
   "source": [
    "SibSp i Parch mają bardzo podobny rozkład Survived. Dodatkowo - generalizując - przechowują wartość o tym samym.\n",
    "Aby ułatwić uogólnienie informacji, dodajmy nową kolumnę _Family_, która będzie sumą SibSp i Parch. W GridSearch zadecydujemy czy usuwamy SibsSp i Parch po wyliczeniu wartości _Family_"
   ]
  },
  {
   "cell_type": "code",
   "execution_count": 28,
   "id": "d5efc9d6",
   "metadata": {},
   "outputs": [
    {
     "data": {
      "image/png": "[encoded data removed]",
      "text/plain": [
       "<Figure size 1300x1200 with 4 Axes>"
      ]
     },
     "metadata": {},
     "output_type": "display_data"
    }
   ],
   "source": [
    "fig, ax = plt.subplots(2, 2, figsize=(13, 12))\n",
    "sns.countplot(ax = ax[0][0], x='SibSp', hue='Survived', data=process_data)\n",
    "sns.countplot(ax = ax[0][1], x='Parch', hue='Survived', data=process_data)\n",
    "sns.countplot(ax = ax[1][0], x=process_data[\"SibSp\"] + process_data[\"Parch\"], hue='Survived', data=process_data)\n",
    "ax[0][0].title.set_text(\"Ilość rodzeństwa pasażera na statku\")\n",
    "ax[0][1].title.set_text(\"Ilość dzieci pasażera na statku\")\n",
    "ax[1][0].title.set_text(\"Wielkość rodziny pasażera na statku\")\n",
    "plt.show()"
   ]
  },
  {
   "cell_type": "code",
   "execution_count": 29,
   "id": "ec695eaa",
   "metadata": {},
   "outputs": [
    {
     "data": {
      "text/html": [
       "<div>\n",
       "<style scoped>\n",
       "    .dataframe tbody tr th:only-of-type {\n",
       "        vertical-align: middle;\n",
       "    }\n",
       "\n",
       "    .dataframe tbody tr th {\n",
       "        vertical-align: top;\n",
       "    }\n",
       "\n",
       "    .dataframe thead th {\n",
       "        text-align: right;\n",
       "    }\n",
       "</style>\n",
       "<table border=\"1\" class=\"dataframe\">\n",
       "  <thead>\n",
       "    <tr style=\"text-align: right;\">\n",
       "      <th></th>\n",
       "      <th>Survived</th>\n",
       "      <th>Pclass</th>\n",
       "      <th>Sex</th>\n",
       "      <th>Age</th>\n",
       "      <th>Fare</th>\n",
       "      <th>Embarked</th>\n",
       "      <th>Title</th>\n",
       "      <th>Deck</th>\n",
       "      <th>Family</th>\n",
       "    </tr>\n",
       "  </thead>\n",
       "  <tbody>\n",
       "    <tr>\n",
       "      <th>0</th>\n",
       "      <td>0</td>\n",
       "      <td>3</td>\n",
       "      <td>male</td>\n",
       "      <td>22.0</td>\n",
       "      <td>7.2500</td>\n",
       "      <td>S</td>\n",
       "      <td>Mr.</td>\n",
       "      <td>N</td>\n",
       "      <td>1</td>\n",
       "    </tr>\n",
       "    <tr>\n",
       "      <th>1</th>\n",
       "      <td>1</td>\n",
       "      <td>1</td>\n",
       "      <td>female</td>\n",
       "      <td>38.0</td>\n",
       "      <td>71.2833</td>\n",
       "      <td>C</td>\n",
       "      <td>Mrs.</td>\n",
       "      <td>C</td>\n",
       "      <td>1</td>\n",
       "    </tr>\n",
       "    <tr>\n",
       "      <th>2</th>\n",
       "      <td>1</td>\n",
       "      <td>3</td>\n",
       "      <td>female</td>\n",
       "      <td>26.0</td>\n",
       "      <td>7.9250</td>\n",
       "      <td>S</td>\n",
       "      <td>Miss.</td>\n",
       "      <td>N</td>\n",
       "      <td>0</td>\n",
       "    </tr>\n",
       "    <tr>\n",
       "      <th>3</th>\n",
       "      <td>1</td>\n",
       "      <td>1</td>\n",
       "      <td>female</td>\n",
       "      <td>35.0</td>\n",
       "      <td>53.1000</td>\n",
       "      <td>S</td>\n",
       "      <td>Mrs.</td>\n",
       "      <td>C</td>\n",
       "      <td>1</td>\n",
       "    </tr>\n",
       "    <tr>\n",
       "      <th>4</th>\n",
       "      <td>0</td>\n",
       "      <td>3</td>\n",
       "      <td>male</td>\n",
       "      <td>35.0</td>\n",
       "      <td>8.0500</td>\n",
       "      <td>S</td>\n",
       "      <td>Mr.</td>\n",
       "      <td>N</td>\n",
       "      <td>0</td>\n",
       "    </tr>\n",
       "    <tr>\n",
       "      <th>...</th>\n",
       "      <td>...</td>\n",
       "      <td>...</td>\n",
       "      <td>...</td>\n",
       "      <td>...</td>\n",
       "      <td>...</td>\n",
       "      <td>...</td>\n",
       "      <td>...</td>\n",
       "      <td>...</td>\n",
       "      <td>...</td>\n",
       "    </tr>\n",
       "    <tr>\n",
       "      <th>886</th>\n",
       "      <td>0</td>\n",
       "      <td>2</td>\n",
       "      <td>male</td>\n",
       "      <td>27.0</td>\n",
       "      <td>13.0000</td>\n",
       "      <td>S</td>\n",
       "      <td>Rev.</td>\n",
       "      <td>N</td>\n",
       "      <td>0</td>\n",
       "    </tr>\n",
       "    <tr>\n",
       "      <th>887</th>\n",
       "      <td>1</td>\n",
       "      <td>1</td>\n",
       "      <td>female</td>\n",
       "      <td>19.0</td>\n",
       "      <td>30.0000</td>\n",
       "      <td>S</td>\n",
       "      <td>Miss.</td>\n",
       "      <td>B</td>\n",
       "      <td>0</td>\n",
       "    </tr>\n",
       "    <tr>\n",
       "      <th>888</th>\n",
       "      <td>0</td>\n",
       "      <td>3</td>\n",
       "      <td>female</td>\n",
       "      <td>NaN</td>\n",
       "      <td>23.4500</td>\n",
       "      <td>S</td>\n",
       "      <td>Miss.</td>\n",
       "      <td>N</td>\n",
       "      <td>3</td>\n",
       "    </tr>\n",
       "    <tr>\n",
       "      <th>889</th>\n",
       "      <td>1</td>\n",
       "      <td>1</td>\n",
       "      <td>male</td>\n",
       "      <td>26.0</td>\n",
       "      <td>30.0000</td>\n",
       "      <td>C</td>\n",
       "      <td>Mr.</td>\n",
       "      <td>C</td>\n",
       "      <td>0</td>\n",
       "    </tr>\n",
       "    <tr>\n",
       "      <th>890</th>\n",
       "      <td>0</td>\n",
       "      <td>3</td>\n",
       "      <td>male</td>\n",
       "      <td>32.0</td>\n",
       "      <td>7.7500</td>\n",
       "      <td>Q</td>\n",
       "      <td>Mr.</td>\n",
       "      <td>N</td>\n",
       "      <td>0</td>\n",
       "    </tr>\n",
       "  </tbody>\n",
       "</table>\n",
       "<p>891 rows × 9 columns</p>\n",
       "</div>"
      ],
      "text/plain": [
       "     Survived  Pclass     Sex   Age     Fare Embarked  Title Deck  Family\n",
       "0           0       3    male  22.0   7.2500        S    Mr.    N       1\n",
       "1           1       1  female  38.0  71.2833        C   Mrs.    C       1\n",
       "2           1       3  female  26.0   7.9250        S  Miss.    N       0\n",
       "3           1       1  female  35.0  53.1000        S   Mrs.    C       1\n",
       "4           0       3    male  35.0   8.0500        S    Mr.    N       0\n",
       "..        ...     ...     ...   ...      ...      ...    ...  ...     ...\n",
       "886         0       2    male  27.0  13.0000        S   Rev.    N       0\n",
       "887         1       1  female  19.0  30.0000        S  Miss.    B       0\n",
       "888         0       3  female   NaN  23.4500        S  Miss.    N       3\n",
       "889         1       1    male  26.0  30.0000        C    Mr.    C       0\n",
       "890         0       3    male  32.0   7.7500        Q    Mr.    N       0\n",
       "\n",
       "[891 rows x 9 columns]"
      ]
     },
     "execution_count": 29,
     "metadata": {},
     "output_type": "execute_result"
    }
   ],
   "source": [
    "class FamilyScoreCapture(BaseEstimator, TransformerMixin):\n",
    "    def fit(self, X, y=None):\n",
    "        return self\n",
    "    def transform(self, X):\n",
    "        X['Family'] = X['SibSp'] + X['Parch']\n",
    "        return X\n",
    "family_score = FamilyScoreCapture()\n",
    "family_score.transform(process_data)\n",
    "del_columns = DelColumns(['SibSp', 'Parch'])\n",
    "process_data = del_columns.transform(process_data)\n",
    "process_data"
   ]
  },
  {
   "cell_type": "markdown",
   "id": "3184c526",
   "metadata": {},
   "source": [
    "### Missing values"
   ]
  },
  {
   "cell_type": "markdown",
   "id": "8a8a0af8",
   "metadata": {},
   "source": [
    "W trzech kolumnach będziemy obsługiwać missing values\n",
    "- __Age__ - będziemy wartość nadpisywać średnią wieku dla danego tytułu\n",
    "- __Fare__ - będziemy wartość nadpisywać średnią ceny biletu dla danej klasy\n",
    "- __Embarked__ - będziemy wartość nadpisywać wartość 'S' (występuje ona w 70% w zbiorze testowym)"
   ]
  },
  {
   "cell_type": "code",
   "execution_count": 30,
   "id": "a5910724",
   "metadata": {},
   "outputs": [
    {
     "data": {
      "text/html": [
       "<div>\n",
       "<style scoped>\n",
       "    .dataframe tbody tr th:only-of-type {\n",
       "        vertical-align: middle;\n",
       "    }\n",
       "\n",
       "    .dataframe tbody tr th {\n",
       "        vertical-align: top;\n",
       "    }\n",
       "\n",
       "    .dataframe thead th {\n",
       "        text-align: right;\n",
       "    }\n",
       "</style>\n",
       "<table border=\"1\" class=\"dataframe\">\n",
       "  <thead>\n",
       "    <tr style=\"text-align: right;\">\n",
       "      <th></th>\n",
       "      <th>Survived</th>\n",
       "      <th>Pclass</th>\n",
       "      <th>Sex</th>\n",
       "      <th>Age</th>\n",
       "      <th>Fare</th>\n",
       "      <th>Embarked</th>\n",
       "      <th>Title</th>\n",
       "      <th>Deck</th>\n",
       "      <th>Family</th>\n",
       "    </tr>\n",
       "  </thead>\n",
       "  <tbody>\n",
       "    <tr>\n",
       "      <th>0</th>\n",
       "      <td>0</td>\n",
       "      <td>3</td>\n",
       "      <td>male</td>\n",
       "      <td>22.000000</td>\n",
       "      <td>7.2500</td>\n",
       "      <td>S</td>\n",
       "      <td>Mr.</td>\n",
       "      <td>N</td>\n",
       "      <td>1</td>\n",
       "    </tr>\n",
       "    <tr>\n",
       "      <th>1</th>\n",
       "      <td>1</td>\n",
       "      <td>1</td>\n",
       "      <td>female</td>\n",
       "      <td>38.000000</td>\n",
       "      <td>71.2833</td>\n",
       "      <td>C</td>\n",
       "      <td>Mrs.</td>\n",
       "      <td>C</td>\n",
       "      <td>1</td>\n",
       "    </tr>\n",
       "    <tr>\n",
       "      <th>2</th>\n",
       "      <td>1</td>\n",
       "      <td>3</td>\n",
       "      <td>female</td>\n",
       "      <td>26.000000</td>\n",
       "      <td>7.9250</td>\n",
       "      <td>S</td>\n",
       "      <td>Miss.</td>\n",
       "      <td>N</td>\n",
       "      <td>0</td>\n",
       "    </tr>\n",
       "    <tr>\n",
       "      <th>3</th>\n",
       "      <td>1</td>\n",
       "      <td>1</td>\n",
       "      <td>female</td>\n",
       "      <td>35.000000</td>\n",
       "      <td>53.1000</td>\n",
       "      <td>S</td>\n",
       "      <td>Mrs.</td>\n",
       "      <td>C</td>\n",
       "      <td>1</td>\n",
       "    </tr>\n",
       "    <tr>\n",
       "      <th>4</th>\n",
       "      <td>0</td>\n",
       "      <td>3</td>\n",
       "      <td>male</td>\n",
       "      <td>35.000000</td>\n",
       "      <td>8.0500</td>\n",
       "      <td>S</td>\n",
       "      <td>Mr.</td>\n",
       "      <td>N</td>\n",
       "      <td>0</td>\n",
       "    </tr>\n",
       "    <tr>\n",
       "      <th>...</th>\n",
       "      <td>...</td>\n",
       "      <td>...</td>\n",
       "      <td>...</td>\n",
       "      <td>...</td>\n",
       "      <td>...</td>\n",
       "      <td>...</td>\n",
       "      <td>...</td>\n",
       "      <td>...</td>\n",
       "      <td>...</td>\n",
       "    </tr>\n",
       "    <tr>\n",
       "      <th>886</th>\n",
       "      <td>0</td>\n",
       "      <td>2</td>\n",
       "      <td>male</td>\n",
       "      <td>27.000000</td>\n",
       "      <td>13.0000</td>\n",
       "      <td>S</td>\n",
       "      <td>Rev.</td>\n",
       "      <td>N</td>\n",
       "      <td>0</td>\n",
       "    </tr>\n",
       "    <tr>\n",
       "      <th>887</th>\n",
       "      <td>1</td>\n",
       "      <td>1</td>\n",
       "      <td>female</td>\n",
       "      <td>19.000000</td>\n",
       "      <td>30.0000</td>\n",
       "      <td>S</td>\n",
       "      <td>Miss.</td>\n",
       "      <td>B</td>\n",
       "      <td>0</td>\n",
       "    </tr>\n",
       "    <tr>\n",
       "      <th>888</th>\n",
       "      <td>0</td>\n",
       "      <td>3</td>\n",
       "      <td>female</td>\n",
       "      <td>21.845638</td>\n",
       "      <td>23.4500</td>\n",
       "      <td>S</td>\n",
       "      <td>Miss.</td>\n",
       "      <td>N</td>\n",
       "      <td>3</td>\n",
       "    </tr>\n",
       "    <tr>\n",
       "      <th>889</th>\n",
       "      <td>1</td>\n",
       "      <td>1</td>\n",
       "      <td>male</td>\n",
       "      <td>26.000000</td>\n",
       "      <td>30.0000</td>\n",
       "      <td>C</td>\n",
       "      <td>Mr.</td>\n",
       "      <td>C</td>\n",
       "      <td>0</td>\n",
       "    </tr>\n",
       "    <tr>\n",
       "      <th>890</th>\n",
       "      <td>0</td>\n",
       "      <td>3</td>\n",
       "      <td>male</td>\n",
       "      <td>32.000000</td>\n",
       "      <td>7.7500</td>\n",
       "      <td>Q</td>\n",
       "      <td>Mr.</td>\n",
       "      <td>N</td>\n",
       "      <td>0</td>\n",
       "    </tr>\n",
       "  </tbody>\n",
       "</table>\n",
       "<p>891 rows × 9 columns</p>\n",
       "</div>"
      ],
      "text/plain": [
       "     Survived  Pclass     Sex        Age     Fare Embarked  Title Deck  Family\n",
       "0           0       3    male  22.000000   7.2500        S    Mr.    N       1\n",
       "1           1       1  female  38.000000  71.2833        C   Mrs.    C       1\n",
       "2           1       3  female  26.000000   7.9250        S  Miss.    N       0\n",
       "3           1       1  female  35.000000  53.1000        S   Mrs.    C       1\n",
       "4           0       3    male  35.000000   8.0500        S    Mr.    N       0\n",
       "..        ...     ...     ...        ...      ...      ...    ...  ...     ...\n",
       "886         0       2    male  27.000000  13.0000        S   Rev.    N       0\n",
       "887         1       1  female  19.000000  30.0000        S  Miss.    B       0\n",
       "888         0       3  female  21.845638  23.4500        S  Miss.    N       3\n",
       "889         1       1    male  26.000000  30.0000        C    Mr.    C       0\n",
       "890         0       3    male  32.000000   7.7500        Q    Mr.    N       0\n",
       "\n",
       "[891 rows x 9 columns]"
      ]
     },
     "execution_count": 30,
     "metadata": {},
     "output_type": "execute_result"
    }
   ],
   "source": [
    "class AgeNaNFill(BaseEstimator, TransformerMixin):\n",
    "    def fit(self, X, y=None):\n",
    "        self.mean_age = ps.pivot_table(X, values=\"Age\", index='Title', aggfunc= \"mean\").squeeze()\n",
    "        return self\n",
    "    def transform(self, X):\n",
    "        mapped_values = self.mean_age[X[X['Age'].isna()][\"Title\"]]\n",
    "        X.loc[X['Age'].isna(), \"Age\"] = mapped_values.values\n",
    "        return X\n",
    "class FareNaNFill(BaseEstimator, TransformerMixin):\n",
    "    def fit(self, X, y=None):\n",
    "        self.mean_age = ps.pivot_table(X, values=\"Fare\", index='Pclass', aggfunc= \"mean\").squeeze()\n",
    "        return self\n",
    "    def transform(self, X):\n",
    "        mapped_values = self.mean_age[X[X['Fare'].isna()][\"Pclass\"]]\n",
    "        X.loc[X['Fare'].isna(), \"Fare\"] = mapped_values.values\n",
    "        return X\n",
    "class EmbarkedNaNFill(BaseEstimator, TransformerMixin):\n",
    "    def fit(self, X, y=None):\n",
    "        return self\n",
    "    def transform(self, X):\n",
    "        return X.fillna(value = {'Embarked': 'S'})\n",
    "age_pipe = AgeNaNFill()\n",
    "fare_pipe = FareNaNFill()\n",
    "embarked_pipe = EmbarkedNaNFill()\n",
    "\n",
    "age_pipe.fit(process_data)\n",
    "fare_pipe.fit(process_data)\n",
    "embarked_pipe.fit(process_data)\n",
    "\n",
    "age_pipe.transform(process_data)\n",
    "fare_pipe.transform(process_data)\n",
    "embarked_pipe.transform(process_data)"
   ]
  },
  {
   "cell_type": "markdown",
   "id": "230f91bb",
   "metadata": {},
   "source": [
    "### Konwersja danych"
   ]
  },
  {
   "cell_type": "markdown",
   "id": "539c51a8",
   "metadata": {},
   "source": [
    "#### Generalizacja"
   ]
  },
  {
   "cell_type": "markdown",
   "id": "05afad97",
   "metadata": {},
   "source": [
    "Spróbujemy podzielić wartości _Fare_ i _Age_ na kategorie. W GridSearch ustawimy jako parametr, czy włączamy konwersje, czy też nie. Podział na kategorie został wykonany metodą _widzi_mi_się_ lub został mocno zainspirowany, kogoś rozwiązaniem z internetu ¯\\_(ツ)_/¯"
   ]
  },
  {
   "cell_type": "markdown",
   "id": "edaa775f",
   "metadata": {},
   "source": [
    "#### Konwersja na dane liczbowe"
   ]
  },
  {
   "cell_type": "markdown",
   "id": "c2954181",
   "metadata": {},
   "source": [
    "Przekonwertujemy kolumnę _Sex_ na 0 i 1 w zależności od płci"
   ]
  },
  {
   "cell_type": "code",
   "execution_count": 31,
   "id": "da898569",
   "metadata": {},
   "outputs": [
    {
     "data": {
      "text/html": [
       "<div>\n",
       "<style scoped>\n",
       "    .dataframe tbody tr th:only-of-type {\n",
       "        vertical-align: middle;\n",
       "    }\n",
       "\n",
       "    .dataframe tbody tr th {\n",
       "        vertical-align: top;\n",
       "    }\n",
       "\n",
       "    .dataframe thead th {\n",
       "        text-align: right;\n",
       "    }\n",
       "</style>\n",
       "<table border=\"1\" class=\"dataframe\">\n",
       "  <thead>\n",
       "    <tr style=\"text-align: right;\">\n",
       "      <th></th>\n",
       "      <th>Survived</th>\n",
       "      <th>Pclass</th>\n",
       "      <th>Sex</th>\n",
       "      <th>Age</th>\n",
       "      <th>Fare</th>\n",
       "      <th>Embarked</th>\n",
       "      <th>Title</th>\n",
       "      <th>Deck</th>\n",
       "      <th>Family</th>\n",
       "    </tr>\n",
       "  </thead>\n",
       "  <tbody>\n",
       "    <tr>\n",
       "      <th>0</th>\n",
       "      <td>0</td>\n",
       "      <td>3</td>\n",
       "      <td>0</td>\n",
       "      <td>2.0</td>\n",
       "      <td>0.0</td>\n",
       "      <td>S</td>\n",
       "      <td>Mr.</td>\n",
       "      <td>N</td>\n",
       "      <td>1</td>\n",
       "    </tr>\n",
       "    <tr>\n",
       "      <th>1</th>\n",
       "      <td>1</td>\n",
       "      <td>1</td>\n",
       "      <td>1</td>\n",
       "      <td>3.0</td>\n",
       "      <td>2.0</td>\n",
       "      <td>C</td>\n",
       "      <td>Mrs.</td>\n",
       "      <td>C</td>\n",
       "      <td>1</td>\n",
       "    </tr>\n",
       "    <tr>\n",
       "      <th>2</th>\n",
       "      <td>1</td>\n",
       "      <td>3</td>\n",
       "      <td>1</td>\n",
       "      <td>2.0</td>\n",
       "      <td>1.0</td>\n",
       "      <td>S</td>\n",
       "      <td>Miss.</td>\n",
       "      <td>N</td>\n",
       "      <td>0</td>\n",
       "    </tr>\n",
       "    <tr>\n",
       "      <th>3</th>\n",
       "      <td>1</td>\n",
       "      <td>1</td>\n",
       "      <td>1</td>\n",
       "      <td>3.0</td>\n",
       "      <td>2.0</td>\n",
       "      <td>S</td>\n",
       "      <td>Mrs.</td>\n",
       "      <td>C</td>\n",
       "      <td>1</td>\n",
       "    </tr>\n",
       "    <tr>\n",
       "      <th>4</th>\n",
       "      <td>0</td>\n",
       "      <td>3</td>\n",
       "      <td>0</td>\n",
       "      <td>3.0</td>\n",
       "      <td>1.0</td>\n",
       "      <td>S</td>\n",
       "      <td>Mr.</td>\n",
       "      <td>N</td>\n",
       "      <td>0</td>\n",
       "    </tr>\n",
       "    <tr>\n",
       "      <th>...</th>\n",
       "      <td>...</td>\n",
       "      <td>...</td>\n",
       "      <td>...</td>\n",
       "      <td>...</td>\n",
       "      <td>...</td>\n",
       "      <td>...</td>\n",
       "      <td>...</td>\n",
       "      <td>...</td>\n",
       "      <td>...</td>\n",
       "    </tr>\n",
       "    <tr>\n",
       "      <th>886</th>\n",
       "      <td>0</td>\n",
       "      <td>2</td>\n",
       "      <td>0</td>\n",
       "      <td>2.0</td>\n",
       "      <td>1.0</td>\n",
       "      <td>S</td>\n",
       "      <td>Rev.</td>\n",
       "      <td>N</td>\n",
       "      <td>0</td>\n",
       "    </tr>\n",
       "    <tr>\n",
       "      <th>887</th>\n",
       "      <td>1</td>\n",
       "      <td>1</td>\n",
       "      <td>1</td>\n",
       "      <td>2.0</td>\n",
       "      <td>1.0</td>\n",
       "      <td>S</td>\n",
       "      <td>Miss.</td>\n",
       "      <td>B</td>\n",
       "      <td>0</td>\n",
       "    </tr>\n",
       "    <tr>\n",
       "      <th>888</th>\n",
       "      <td>0</td>\n",
       "      <td>3</td>\n",
       "      <td>1</td>\n",
       "      <td>2.0</td>\n",
       "      <td>1.0</td>\n",
       "      <td>S</td>\n",
       "      <td>Miss.</td>\n",
       "      <td>N</td>\n",
       "      <td>3</td>\n",
       "    </tr>\n",
       "    <tr>\n",
       "      <th>889</th>\n",
       "      <td>1</td>\n",
       "      <td>1</td>\n",
       "      <td>0</td>\n",
       "      <td>2.0</td>\n",
       "      <td>1.0</td>\n",
       "      <td>C</td>\n",
       "      <td>Mr.</td>\n",
       "      <td>C</td>\n",
       "      <td>0</td>\n",
       "    </tr>\n",
       "    <tr>\n",
       "      <th>890</th>\n",
       "      <td>0</td>\n",
       "      <td>3</td>\n",
       "      <td>0</td>\n",
       "      <td>3.0</td>\n",
       "      <td>0.0</td>\n",
       "      <td>Q</td>\n",
       "      <td>Mr.</td>\n",
       "      <td>N</td>\n",
       "      <td>0</td>\n",
       "    </tr>\n",
       "  </tbody>\n",
       "</table>\n",
       "<p>891 rows × 9 columns</p>\n",
       "</div>"
      ],
      "text/plain": [
       "     Survived  Pclass Sex  Age  Fare Embarked  Title Deck  Family\n",
       "0           0       3   0  2.0   0.0        S    Mr.    N       1\n",
       "1           1       1   1  3.0   2.0        C   Mrs.    C       1\n",
       "2           1       3   1  2.0   1.0        S  Miss.    N       0\n",
       "3           1       1   1  3.0   2.0        S   Mrs.    C       1\n",
       "4           0       3   0  3.0   1.0        S    Mr.    N       0\n",
       "..        ...     ...  ..  ...   ...      ...    ...  ...     ...\n",
       "886         0       2   0  2.0   1.0        S   Rev.    N       0\n",
       "887         1       1   1  2.0   1.0        S  Miss.    B       0\n",
       "888         0       3   1  2.0   1.0        S  Miss.    N       3\n",
       "889         1       1   0  2.0   1.0        C    Mr.    C       0\n",
       "890         0       3   0  3.0   0.0        Q    Mr.    N       0\n",
       "\n",
       "[891 rows x 9 columns]"
      ]
     },
     "execution_count": 31,
     "metadata": {},
     "output_type": "execute_result"
    }
   ],
   "source": [
    "class FareConvert(BaseEstimator, TransformerMixin):\n",
    "    def fit(self, X, y=None):\n",
    "        return self\n",
    "    def transform(self, X):\n",
    "        X.loc[ X['Fare'] <= 7.91, 'Fare'] = 0\n",
    "        X.loc[(X['Fare'] > 7.91) & (X['Fare'] <= 50), 'Fare'] = 1\n",
    "        X.loc[(X['Fare'] > 50) & (X['Fare'] <= 100), 'Fare'] = 2\n",
    "        X.loc[(X['Fare'] > 100) & (X['Fare'] <= 300), 'Fare'] = 3\n",
    "        X.loc[X['Fare'] > 300, 'Fare'] = 4\n",
    "        return X\n",
    "class AgeConvert(BaseEstimator, TransformerMixin):\n",
    "    def fit(self, X, y=None):\n",
    "        return self\n",
    "    def transform(self, X):\n",
    "        X.loc[ X['Age'] <= 7, 'Age'] = 0\n",
    "        X.loc[(X['Age'] > 7) & (X['Age'] <= 17), 'Age'] = 1\n",
    "        X.loc[(X['Age'] > 17) & (X['Age'] <= 30), 'Age'] = 2\n",
    "        X.loc[(X['Age'] > 30) & (X['Age'] <= 60), 'Age'] = 3\n",
    "        X.loc[(X['Age'] > 60) & (X['Age'] <= 77), 'Age'] = 4\n",
    "        X.loc[X['Age'] > 77, 'Age'] = 5\n",
    "        return X\n",
    "class SexConvert(BaseEstimator, TransformerMixin):\n",
    "    def fit(self, X, y=None):\n",
    "        return self\n",
    "    def transform(self, X):\n",
    "        X.loc[ X['Sex'] == 'male', 'Sex'] = 0\n",
    "        X.loc[ X['Sex'] == 'female', 'Sex'] = 1\n",
    "        return X\n",
    "sex_conv = SexConvert()\n",
    "sex_conv.transform(process_data)\n",
    "fare_conv = FareConvert()\n",
    "fare_conv.transform(process_data)\n",
    "age_conv = AgeConvert()\n",
    "age_conv.transform(process_data)"
   ]
  },
  {
   "cell_type": "markdown",
   "id": "b96cdad8",
   "metadata": {},
   "source": [
    "### Podsumowanie preprocesingu"
   ]
  },
  {
   "cell_type": "markdown",
   "id": "473f5244",
   "metadata": {},
   "source": [
    "Tak przygotowane dane podamy naszym modelom. Na końcu jeszcze dodamy OneHotEncorder i StandardScaler"
   ]
  },
  {
   "cell_type": "code",
   "execution_count": 32,
   "id": "9536c8a0",
   "metadata": {},
   "outputs": [
    {
     "name": "stdout",
     "output_type": "stream",
     "text": [
      "<class 'pandas.core.frame.DataFrame'>\n",
      "RangeIndex: 891 entries, 0 to 890\n",
      "Data columns (total 9 columns):\n",
      " #   Column    Non-Null Count  Dtype  \n",
      "---  ------    --------------  -----  \n",
      " 0   Survived  891 non-null    int64  \n",
      " 1   Pclass    891 non-null    int64  \n",
      " 2   Sex       891 non-null    object \n",
      " 3   Age       891 non-null    float64\n",
      " 4   Fare      891 non-null    float64\n",
      " 5   Embarked  889 non-null    object \n",
      " 6   Title     891 non-null    object \n",
      " 7   Deck      891 non-null    object \n",
      " 8   Family    891 non-null    int64  \n",
      "dtypes: float64(2), int64(3), object(4)\n",
      "memory usage: 62.8+ KB\n"
     ]
    }
   ],
   "source": [
    "process_data.info()"
   ]
  },
  {
   "cell_type": "markdown",
   "id": "d655dbee",
   "metadata": {},
   "source": [
    "# Trenowanie modeli"
   ]
  },
  {
   "cell_type": "markdown",
   "id": "5efc8efc",
   "metadata": {},
   "source": [
    "Wczytujemy dane i usuwamy z nich kapitana, jako wartość odstającą."
   ]
  },
  {
   "cell_type": "code",
   "execution_count": 33,
   "id": "63c56394",
   "metadata": {},
   "outputs": [
    {
     "name": "stdout",
     "output_type": "stream",
     "text": [
      "     PassengerId  Survived  Pclass                          Name   Sex   Age  \\\n",
      "745          746         0       1  Crosby, Capt. Edward Gifford  male  70.0   \n",
      "\n",
      "     SibSp  Parch     Ticket  Fare Cabin Embarked  \n",
      "745      1      1  WE/P 5735  71.0   B22        S  \n"
     ]
    }
   ],
   "source": [
    "train_data = load_titanic_data(\"train.csv\")\n",
    "print(train_data.loc[train_data['PassengerId'] == 746])\n",
    "train_data.drop(train_data[train_data['PassengerId'] == 746].index, inplace=True)"
   ]
  },
  {
   "cell_type": "markdown",
   "id": "8d6e65a5",
   "metadata": {},
   "source": [
    "Dzielimy dane na input i output"
   ]
  },
  {
   "cell_type": "code",
   "execution_count": 34,
   "id": "18dbfdb3",
   "metadata": {},
   "outputs": [],
   "source": [
    "X = train_data.drop(['Survived'], axis=1)\n",
    "y = train_data['Survived']"
   ]
  },
  {
   "cell_type": "markdown",
   "id": "e802ca15",
   "metadata": {},
   "source": [
    "Robimy preprocessing danych, który nie musi być robiony w Pipelinie\n",
    "- Z kolumny _Name_ tworzymy kolumnę _Title_- __TitleCapture()__, __TitleConverter()__\n",
    "- Tworzymy kolumne _Family_ z _Parch_ i _SibSp_ - __EmbarkedNaNFill()__\n",
    "- Nadpisujemy nulle w _Embarked_ wartością 'S' -__EmbarkedNaNFill()__\n",
    "- Konwertujemy kolumne _Sex_ na wartości numeryczne - __SexConvert()__\n",
    "- Usuwamy kolumny _Ticket_, _PassengerId_, _Name_ - __DelColumns()__"
   ]
  },
  {
   "cell_type": "code",
   "execution_count": 35,
   "id": "6619a662",
   "metadata": {},
   "outputs": [],
   "source": [
    "def prepare_data(X):\n",
    "    transforms = [TitleCapture(), TitleConverter(), FamilyScoreCapture(), EmbarkedNaNFill(), SexConvert(), DelColumns(['Ticket', 'PassengerId', 'Name'])]\n",
    "    for t in transforms:\n",
    "        X = t.transform(X)\n",
    "    return X"
   ]
  },
  {
   "cell_type": "code",
   "execution_count": 36,
   "id": "8329a53d",
   "metadata": {},
   "outputs": [
    {
     "data": {
      "text/html": [
       "<div>\n",
       "<style scoped>\n",
       "    .dataframe tbody tr th:only-of-type {\n",
       "        vertical-align: middle;\n",
       "    }\n",
       "\n",
       "    .dataframe tbody tr th {\n",
       "        vertical-align: top;\n",
       "    }\n",
       "\n",
       "    .dataframe thead th {\n",
       "        text-align: right;\n",
       "    }\n",
       "</style>\n",
       "<table border=\"1\" class=\"dataframe\">\n",
       "  <thead>\n",
       "    <tr style=\"text-align: right;\">\n",
       "      <th></th>\n",
       "      <th>Pclass</th>\n",
       "      <th>Sex</th>\n",
       "      <th>Age</th>\n",
       "      <th>SibSp</th>\n",
       "      <th>Parch</th>\n",
       "      <th>Fare</th>\n",
       "      <th>Cabin</th>\n",
       "      <th>Embarked</th>\n",
       "      <th>Title</th>\n",
       "      <th>Family</th>\n",
       "    </tr>\n",
       "  </thead>\n",
       "  <tbody>\n",
       "    <tr>\n",
       "      <th>0</th>\n",
       "      <td>3</td>\n",
       "      <td>0</td>\n",
       "      <td>22.0</td>\n",
       "      <td>1</td>\n",
       "      <td>0</td>\n",
       "      <td>7.2500</td>\n",
       "      <td>NaN</td>\n",
       "      <td>S</td>\n",
       "      <td>Mr.</td>\n",
       "      <td>1</td>\n",
       "    </tr>\n",
       "    <tr>\n",
       "      <th>1</th>\n",
       "      <td>1</td>\n",
       "      <td>1</td>\n",
       "      <td>38.0</td>\n",
       "      <td>1</td>\n",
       "      <td>0</td>\n",
       "      <td>71.2833</td>\n",
       "      <td>C85</td>\n",
       "      <td>C</td>\n",
       "      <td>Mrs.</td>\n",
       "      <td>1</td>\n",
       "    </tr>\n",
       "    <tr>\n",
       "      <th>2</th>\n",
       "      <td>3</td>\n",
       "      <td>1</td>\n",
       "      <td>26.0</td>\n",
       "      <td>0</td>\n",
       "      <td>0</td>\n",
       "      <td>7.9250</td>\n",
       "      <td>NaN</td>\n",
       "      <td>S</td>\n",
       "      <td>Miss.</td>\n",
       "      <td>0</td>\n",
       "    </tr>\n",
       "    <tr>\n",
       "      <th>3</th>\n",
       "      <td>1</td>\n",
       "      <td>1</td>\n",
       "      <td>35.0</td>\n",
       "      <td>1</td>\n",
       "      <td>0</td>\n",
       "      <td>53.1000</td>\n",
       "      <td>C123</td>\n",
       "      <td>S</td>\n",
       "      <td>Mrs.</td>\n",
       "      <td>1</td>\n",
       "    </tr>\n",
       "    <tr>\n",
       "      <th>4</th>\n",
       "      <td>3</td>\n",
       "      <td>0</td>\n",
       "      <td>35.0</td>\n",
       "      <td>0</td>\n",
       "      <td>0</td>\n",
       "      <td>8.0500</td>\n",
       "      <td>NaN</td>\n",
       "      <td>S</td>\n",
       "      <td>Mr.</td>\n",
       "      <td>0</td>\n",
       "    </tr>\n",
       "    <tr>\n",
       "      <th>...</th>\n",
       "      <td>...</td>\n",
       "      <td>...</td>\n",
       "      <td>...</td>\n",
       "      <td>...</td>\n",
       "      <td>...</td>\n",
       "      <td>...</td>\n",
       "      <td>...</td>\n",
       "      <td>...</td>\n",
       "      <td>...</td>\n",
       "      <td>...</td>\n",
       "    </tr>\n",
       "    <tr>\n",
       "      <th>886</th>\n",
       "      <td>2</td>\n",
       "      <td>0</td>\n",
       "      <td>27.0</td>\n",
       "      <td>0</td>\n",
       "      <td>0</td>\n",
       "      <td>13.0000</td>\n",
       "      <td>NaN</td>\n",
       "      <td>S</td>\n",
       "      <td>Rev.</td>\n",
       "      <td>0</td>\n",
       "    </tr>\n",
       "    <tr>\n",
       "      <th>887</th>\n",
       "      <td>1</td>\n",
       "      <td>1</td>\n",
       "      <td>19.0</td>\n",
       "      <td>0</td>\n",
       "      <td>0</td>\n",
       "      <td>30.0000</td>\n",
       "      <td>B42</td>\n",
       "      <td>S</td>\n",
       "      <td>Miss.</td>\n",
       "      <td>0</td>\n",
       "    </tr>\n",
       "    <tr>\n",
       "      <th>888</th>\n",
       "      <td>3</td>\n",
       "      <td>1</td>\n",
       "      <td>NaN</td>\n",
       "      <td>1</td>\n",
       "      <td>2</td>\n",
       "      <td>23.4500</td>\n",
       "      <td>NaN</td>\n",
       "      <td>S</td>\n",
       "      <td>Miss.</td>\n",
       "      <td>3</td>\n",
       "    </tr>\n",
       "    <tr>\n",
       "      <th>889</th>\n",
       "      <td>1</td>\n",
       "      <td>0</td>\n",
       "      <td>26.0</td>\n",
       "      <td>0</td>\n",
       "      <td>0</td>\n",
       "      <td>30.0000</td>\n",
       "      <td>C148</td>\n",
       "      <td>C</td>\n",
       "      <td>Mr.</td>\n",
       "      <td>0</td>\n",
       "    </tr>\n",
       "    <tr>\n",
       "      <th>890</th>\n",
       "      <td>3</td>\n",
       "      <td>0</td>\n",
       "      <td>32.0</td>\n",
       "      <td>0</td>\n",
       "      <td>0</td>\n",
       "      <td>7.7500</td>\n",
       "      <td>NaN</td>\n",
       "      <td>Q</td>\n",
       "      <td>Mr.</td>\n",
       "      <td>0</td>\n",
       "    </tr>\n",
       "  </tbody>\n",
       "</table>\n",
       "<p>890 rows × 10 columns</p>\n",
       "</div>"
      ],
      "text/plain": [
       "     Pclass Sex   Age  SibSp  Parch     Fare Cabin Embarked  Title  Family\n",
       "0         3   0  22.0      1      0   7.2500   NaN        S    Mr.       1\n",
       "1         1   1  38.0      1      0  71.2833   C85        C   Mrs.       1\n",
       "2         3   1  26.0      0      0   7.9250   NaN        S  Miss.       0\n",
       "3         1   1  35.0      1      0  53.1000  C123        S   Mrs.       1\n",
       "4         3   0  35.0      0      0   8.0500   NaN        S    Mr.       0\n",
       "..      ...  ..   ...    ...    ...      ...   ...      ...    ...     ...\n",
       "886       2   0  27.0      0      0  13.0000   NaN        S   Rev.       0\n",
       "887       1   1  19.0      0      0  30.0000   B42        S  Miss.       0\n",
       "888       3   1   NaN      1      2  23.4500   NaN        S  Miss.       3\n",
       "889       1   0  26.0      0      0  30.0000  C148        C    Mr.       0\n",
       "890       3   0  32.0      0      0   7.7500   NaN        Q    Mr.       0\n",
       "\n",
       "[890 rows x 10 columns]"
      ]
     },
     "execution_count": 36,
     "metadata": {},
     "output_type": "execute_result"
    }
   ],
   "source": [
    "X = prepare_data(X)\n",
    "X"
   ]
  },
  {
   "cell_type": "markdown",
   "id": "ee7d7de5",
   "metadata": {},
   "source": [
    "### Pipeline"
   ]
  },
  {
   "cell_type": "markdown",
   "id": "c9479044",
   "metadata": {},
   "source": [
    "Nasz pipeline będzie się składać z następujących etapów\n",
    "- Uzyskanie informacji o pokładzie z kolumny _Cabin_ - __DeckCapture()__\n",
    "- Usunięcie kolumny _Cabin_ - __DelColumns()__\n",
    "- Nadpisanie missing values w _Age_ i _Fare - __AgeNaNFill()__, __FareNaNFill()__\n",
    "- Konwersja kolumny _Age_ i _Fare_ na kategorie - __AgeConvert()__, __FareConvert()__, \n",
    "- Usunięcie kolumny _SibSp_ i _Parch_ - __DelColumns()__\n",
    "- Utworzenie kolumn binarnych z kolumn kategorycznych _Embarked_, _Deck_, _Title_ - __OneHotEncorder()__\n",
    "- Normalizacja danych - __StandardScaler()__\n",
    "- Na końcu ustawiamy nasz model"
   ]
  },
  {
   "cell_type": "code",
   "execution_count": 37,
   "id": "b1f0b406",
   "metadata": {},
   "outputs": [],
   "source": [
    "from sklearn.svm import SVC\n",
    "from sklearn.model_selection import GridSearchCV\n",
    "from sklearn.model_selection import StratifiedKFold\n",
    "from sklearn.preprocessing import StandardScaler\n",
    "from sklearn.pipeline import Pipeline\n",
    "from sklearn.compose import ColumnTransformer\n",
    "from sklearn.preprocessing import OneHotEncoder\n",
    "\n",
    "pipeSvc = Pipeline([\n",
    "    (\"deck_converter\", DeckCapture()),\n",
    "    (\"del_str_val\", DelColumns(['Cabin'])),\n",
    "    (\"age_nan\", AgeNaNFill()),\n",
    "    (\"fare_nan\", FareNaNFill()),\n",
    "    (\"fare_conv\", FareConvert()),\n",
    "    (\"age_conv\", AgeConvert()),\n",
    "    (\"del_family_columns\", DelColumns(['SibSp', 'Parch'])),\n",
    "    (\"dummies\", ColumnTransformer([('onehot', OneHotEncoder(handle_unknown=\"ignore\"), ['Embarked', 'Deck', 'Title'])], remainder='passthrough')),\n",
    "    (\"scaler\", StandardScaler()),\n",
    "    ('classifier', SVC(probability = True))\n",
    "])"
   ]
  },
  {
   "cell_type": "markdown",
   "id": "5a216691",
   "metadata": {},
   "source": [
    "### SVC rbf"
   ]
  },
  {
   "cell_type": "code",
   "execution_count": 38,
   "id": "902ae021",
   "metadata": {},
   "outputs": [],
   "source": [
    "seed=123\n",
    "kfold = StratifiedKFold(n_splits=5, random_state=seed, shuffle=True)\n",
    "\n",
    "param_grid = {'deck_converter__diff_deck': [True, False],\n",
    "              'del_family_columns__columns': [[], ['SibSp', 'Parch']],\n",
    "              'fare_conv': [None, FareConvert()],\n",
    "              'age_conv': [None, AgeConvert()],\n",
    "              'classifier__C': [0.1, 1, 10, 100],\n",
    "              'classifier__gamma': [0.001, 0.01, 0.1, 1]}\n",
    "\n",
    "svc_rbf = GridSearchCV(pipeSvc, param_grid = param_grid, cv=kfold, return_train_score=True, verbose = 2, refit=True, n_jobs = -1)"
   ]
  },
  {
   "cell_type": "code",
   "execution_count": 39,
   "id": "1219a7cd",
   "metadata": {},
   "outputs": [
    {
     "name": "stdout",
     "output_type": "stream",
     "text": [
      "Fitting 5 folds for each of 256 candidates, totalling 1280 fits\n"
     ]
    },
    {
     "data": {
      "text/plain": [
       "{'age_conv': AgeConvert(),\n",
       " 'classifier__C': 10,\n",
       " 'classifier__gamma': 0.01,\n",
       " 'deck_converter__diff_deck': False,\n",
       " 'del_family_columns__columns': [],\n",
       " 'fare_conv': None}"
      ]
     },
     "execution_count": 39,
     "metadata": {},
     "output_type": "execute_result"
    }
   ],
   "source": [
    "svc_rbf.fit(X, y)\n",
    "svc_rbf.best_params_"
   ]
  },
  {
   "cell_type": "code",
   "execution_count": 40,
   "id": "ebf4123f",
   "metadata": {},
   "outputs": [
    {
     "data": {
      "text/plain": [
       "0.8404494382022472"
      ]
     },
     "execution_count": 40,
     "metadata": {},
     "output_type": "execute_result"
    }
   ],
   "source": [
    "svc_rbf.best_score_"
   ]
  },
  {
   "cell_type": "markdown",
   "id": "7087510a",
   "metadata": {},
   "source": [
    "### SVC linear"
   ]
  },
  {
   "cell_type": "code",
   "execution_count": 41,
   "id": "88bb1e30",
   "metadata": {},
   "outputs": [],
   "source": [
    "pipe_svc_lin = Pipeline([\n",
    "    (\"deck_converter\", DeckCapture()),\n",
    "    (\"del_str_val\", DelColumns(['Cabin'])),\n",
    "    (\"age_nan\", AgeNaNFill()),\n",
    "    (\"fare_nan\", FareNaNFill()),\n",
    "    (\"fare_conv\", FareConvert()),\n",
    "    (\"age_conv\", AgeConvert()),\n",
    "    (\"del_family_columns\", DelColumns(['SibSp', 'Parch'])),\n",
    "    (\"dummies\", ColumnTransformer([('onehot', OneHotEncoder(handle_unknown=\"ignore\"), ['Embarked', 'Deck', 'Title'])], remainder='passthrough')),\n",
    "    (\"scaler\", StandardScaler()),\n",
    "    ('classifier', SVC(kernel=\"linear\", max_iter=50000, probability = True))\n",
    "])\n",
    "\n",
    "seed=123\n",
    "kfold = StratifiedKFold(n_splits=5, random_state=seed, shuffle=True)\n",
    "\n",
    "param_grid = {'deck_converter__diff_deck': [True, False],\n",
    "              'del_family_columns__columns': [[], ['SibSp', 'Parch']],\n",
    "              'fare_conv': [None, FareConvert()],\n",
    "              'age_conv': [None, AgeConvert()],\n",
    "              'classifier__C': [0.001, 0.01 , 0.1, 1, 10, 100],\n",
    "              'classifier__gamma': [10 ** -10, 10 ** -5, 10 ** 2]}\n",
    "\n",
    "svc_lin = GridSearchCV(pipe_svc_lin, param_grid = param_grid, cv=kfold, return_train_score=True, verbose = 3, refit=True, n_jobs = -1)"
   ]
  },
  {
   "cell_type": "code",
   "execution_count": 42,
   "id": "cd5b8b7d",
   "metadata": {
    "scrolled": true
   },
   "outputs": [
    {
     "name": "stdout",
     "output_type": "stream",
     "text": [
      "Fitting 5 folds for each of 288 candidates, totalling 1440 fits\n"
     ]
    },
    {
     "data": {
      "text/plain": [
       "{'age_conv': None,\n",
       " 'classifier__C': 1,\n",
       " 'classifier__gamma': 1e-10,\n",
       " 'deck_converter__diff_deck': False,\n",
       " 'del_family_columns__columns': ['SibSp', 'Parch'],\n",
       " 'fare_conv': None}"
      ]
     },
     "execution_count": 42,
     "metadata": {},
     "output_type": "execute_result"
    }
   ],
   "source": [
    "svc_lin.fit(X, y)\n",
    "svc_lin.best_params_"
   ]
  },
  {
   "cell_type": "code",
   "execution_count": 43,
   "id": "41eb52f8",
   "metadata": {},
   "outputs": [
    {
     "data": {
      "text/plain": [
       "0.8292134831460676"
      ]
     },
     "execution_count": 43,
     "metadata": {},
     "output_type": "execute_result"
    }
   ],
   "source": [
    "svc_lin.best_score_"
   ]
  },
  {
   "cell_type": "markdown",
   "id": "326b2336",
   "metadata": {},
   "source": [
    "### Linear Regression"
   ]
  },
  {
   "cell_type": "code",
   "execution_count": 44,
   "id": "8805690c",
   "metadata": {},
   "outputs": [],
   "source": [
    "from sklearn.linear_model import LogisticRegression\n",
    "\n",
    "pipe_lr = Pipeline([\n",
    "    (\"deck_converter\", DeckCapture()),\n",
    "    (\"del_str_val\", DelColumns(['Cabin'])),\n",
    "    (\"age_nan\", AgeNaNFill()),\n",
    "    (\"fare_nan\", FareNaNFill()),\n",
    "    (\"fare_conv\", FareConvert()),\n",
    "    (\"age_conv\", AgeConvert()),\n",
    "    (\"del_family_columns\", DelColumns(['SibSp', 'Parch'])),\n",
    "    (\"dummies\", ColumnTransformer([('onehot', OneHotEncoder(handle_unknown=\"ignore\"), ['Embarked', 'Deck', 'Title'])], remainder='passthrough')),\n",
    "    (\"scaler\", StandardScaler()),\n",
    "    ('classifier', LogisticRegression())\n",
    "])\n",
    "\n",
    "seed=123\n",
    "kfold = StratifiedKFold(n_splits=5, random_state=seed, shuffle=True)\n",
    "\n",
    "param_grid = {'deck_converter__diff_deck': [True, False],\n",
    "              'del_family_columns__columns': [[], ['SibSp', 'Parch']],\n",
    "              'fare_conv': [None, FareConvert()],\n",
    "              'age_conv': [None, AgeConvert()],\n",
    "              'classifier__C': [0.00001, 0.001, 0.1, 1, 10, 100],}\n",
    "\n",
    "lr = GridSearchCV(pipe_lr, param_grid = param_grid, cv=kfold, return_train_score=True, verbose = 3, refit=True, n_jobs = -1)"
   ]
  },
  {
   "cell_type": "code",
   "execution_count": 45,
   "id": "d7b362d9",
   "metadata": {},
   "outputs": [
    {
     "name": "stdout",
     "output_type": "stream",
     "text": [
      "Fitting 5 folds for each of 96 candidates, totalling 480 fits\n"
     ]
    },
    {
     "data": {
      "text/plain": [
       "{'age_conv': AgeConvert(),\n",
       " 'classifier__C': 1,\n",
       " 'deck_converter__diff_deck': False,\n",
       " 'del_family_columns__columns': [],\n",
       " 'fare_conv': FareConvert()}"
      ]
     },
     "execution_count": 45,
     "metadata": {},
     "output_type": "execute_result"
    }
   ],
   "source": [
    "lr.fit(X, y)\n",
    "lr.best_params_"
   ]
  },
  {
   "cell_type": "code",
   "execution_count": 46,
   "id": "044819b2",
   "metadata": {},
   "outputs": [
    {
     "data": {
      "text/plain": [
       "0.8348314606741575"
      ]
     },
     "execution_count": 46,
     "metadata": {},
     "output_type": "execute_result"
    }
   ],
   "source": [
    "lr.best_score_"
   ]
  },
  {
   "cell_type": "markdown",
   "id": "76e292b6",
   "metadata": {},
   "source": [
    "### Decision Tree"
   ]
  },
  {
   "cell_type": "code",
   "execution_count": 47,
   "id": "bc9e9d6a",
   "metadata": {},
   "outputs": [],
   "source": [
    "from sklearn.tree import DecisionTreeClassifier\n",
    "\n",
    "pipe_dt = Pipeline([\n",
    "    (\"deck_converter\", DeckCapture()),\n",
    "    (\"del_str_val\", DelColumns(['Cabin'])),\n",
    "    (\"age_nan\", AgeNaNFill()),\n",
    "    (\"fare_nan\", FareNaNFill()),\n",
    "    (\"fare_conv\", FareConvert()),\n",
    "    (\"age_conv\", AgeConvert()),\n",
    "    (\"del_family_columns\", DelColumns(['SibSp', 'Parch'])),\n",
    "    (\"dummies\", ColumnTransformer([('onehot', OneHotEncoder(handle_unknown=\"ignore\"), ['Embarked', 'Deck', 'Title'])], remainder='passthrough')),\n",
    "    (\"scaler\", StandardScaler()),\n",
    "    ('classifier', DecisionTreeClassifier())\n",
    "])\n",
    "\n",
    "seed=123\n",
    "kfold = StratifiedKFold(n_splits=5, random_state=seed, shuffle=True)\n",
    "\n",
    "param_grid = {'deck_converter__diff_deck': [True, False],\n",
    "              'del_family_columns__columns': [[], ['SibSp', 'Parch']],\n",
    "              'fare_conv': [None, FareConvert()],\n",
    "              'age_conv': [None, AgeConvert()],\n",
    "              'classifier__splitter': ['best', 'random'],\n",
    "              'classifier__criterion' : ['gini', 'entropy'],\n",
    "              'classifier__min_samples_leaf': [8, 9, 10, 11, 12, 13, 14],\n",
    "              'classifier__max_depth': [2, 3, 4, 5, 6, 7, 8,9,10,11]}\n",
    "\n",
    "dt = GridSearchCV(pipe_dt, param_grid = param_grid, cv=kfold, return_train_score=True, verbose = 3, refit=True, n_jobs = -1)"
   ]
  },
  {
   "cell_type": "code",
   "execution_count": 48,
   "id": "eedcd2e7",
   "metadata": {},
   "outputs": [
    {
     "name": "stdout",
     "output_type": "stream",
     "text": [
      "Fitting 5 folds for each of 4480 candidates, totalling 22400 fits\n"
     ]
    },
    {
     "data": {
      "text/plain": [
       "{'age_conv': None,\n",
       " 'classifier__criterion': 'entropy',\n",
       " 'classifier__max_depth': 4,\n",
       " 'classifier__min_samples_leaf': 11,\n",
       " 'classifier__splitter': 'best',\n",
       " 'deck_converter__diff_deck': True,\n",
       " 'del_family_columns__columns': [],\n",
       " 'fare_conv': None}"
      ]
     },
     "execution_count": 48,
     "metadata": {},
     "output_type": "execute_result"
    }
   ],
   "source": [
    "dt.fit(X, y)\n",
    "dt.best_params_"
   ]
  },
  {
   "cell_type": "code",
   "execution_count": 49,
   "id": "065109f0",
   "metadata": {},
   "outputs": [
    {
     "data": {
      "text/plain": [
       "0.8370786516853933"
      ]
     },
     "execution_count": 49,
     "metadata": {},
     "output_type": "execute_result"
    }
   ],
   "source": [
    "dt.best_score_"
   ]
  },
  {
   "cell_type": "markdown",
   "id": "aa45306e",
   "metadata": {},
   "source": [
    "### Random Forest"
   ]
  },
  {
   "cell_type": "code",
   "execution_count": 50,
   "id": "f45abca6",
   "metadata": {},
   "outputs": [],
   "source": [
    "from sklearn.ensemble import RandomForestClassifier\n",
    "\n",
    "pipe_rf = Pipeline([\n",
    "    (\"deck_converter\", DeckCapture()),\n",
    "    (\"del_str_val\", DelColumns(['Cabin'])),\n",
    "    (\"age_nan\", AgeNaNFill()),\n",
    "    (\"fare_nan\", FareNaNFill()),\n",
    "    (\"fare_conv\", FareConvert()),\n",
    "    (\"age_conv\", AgeConvert()),\n",
    "    (\"del_family_columns\", DelColumns(['SibSp', 'Parch'])),\n",
    "    (\"dummies\", ColumnTransformer([('onehot', OneHotEncoder(handle_unknown=\"ignore\"), ['Embarked', 'Deck', 'Title'])], remainder='passthrough')),\n",
    "    (\"scaler\", StandardScaler()),\n",
    "    ('classifier', RandomForestClassifier(min_samples_leaf = 2))\n",
    "])\n",
    "\n",
    "seed=123\n",
    "kfold = StratifiedKFold(n_splits=5, random_state=seed, shuffle=True)\n",
    "\n",
    "param_grid = {'deck_converter__diff_deck': [True, False],\n",
    "              'del_family_columns__columns': [[], ['SibSp', 'Parch']],\n",
    "              'fare_conv': [None, FareConvert()],\n",
    "              'age_conv': [None, AgeConvert()],\n",
    "              'classifier__n_estimators': [100, 200, 500, 1000],\n",
    "              'classifier__criterion' : ['gini', 'entropy'],}\n",
    "\n",
    "rf = GridSearchCV(pipe_rf, param_grid = param_grid, cv=kfold, return_train_score=True, verbose = 3, refit=True, n_jobs = -1)"
   ]
  },
  {
   "cell_type": "code",
   "execution_count": 51,
   "id": "dfdd3748",
   "metadata": {},
   "outputs": [
    {
     "name": "stdout",
     "output_type": "stream",
     "text": [
      "Fitting 5 folds for each of 128 candidates, totalling 640 fits\n"
     ]
    },
    {
     "data": {
      "text/plain": [
       "{'age_conv': None,\n",
       " 'classifier__criterion': 'entropy',\n",
       " 'classifier__n_estimators': 1000,\n",
       " 'deck_converter__diff_deck': False,\n",
       " 'del_family_columns__columns': ['SibSp', 'Parch'],\n",
       " 'fare_conv': None}"
      ]
     },
     "execution_count": 51,
     "metadata": {},
     "output_type": "execute_result"
    }
   ],
   "source": [
    "rf.fit(X, y)\n",
    "rf.best_params_"
   ]
  },
  {
   "cell_type": "code",
   "execution_count": 52,
   "id": "6dd6f859",
   "metadata": {},
   "outputs": [
    {
     "data": {
      "text/plain": [
       "0.8415730337078653"
      ]
     },
     "execution_count": 52,
     "metadata": {},
     "output_type": "execute_result"
    }
   ],
   "source": [
    "rf.best_score_"
   ]
  },
  {
   "cell_type": "markdown",
   "id": "51bbefb0",
   "metadata": {},
   "source": [
    "### Ada Boost"
   ]
  },
  {
   "cell_type": "code",
   "execution_count": 53,
   "id": "0f020c5b",
   "metadata": {},
   "outputs": [],
   "source": [
    "from sklearn.ensemble import AdaBoostClassifier\n",
    "\n",
    "pipe_ada = Pipeline([\n",
    "    (\"deck_converter\", DeckCapture()),\n",
    "    (\"del_str_val\", DelColumns(['Cabin'])),\n",
    "    (\"age_nan\", AgeNaNFill()),\n",
    "    (\"fare_nan\", FareNaNFill()),\n",
    "    (\"fare_conv\", FareConvert()),\n",
    "    (\"age_conv\", AgeConvert()),\n",
    "    (\"del_family_columns\", DelColumns(['SibSp', 'Parch'])),\n",
    "    (\"dummies\", ColumnTransformer([('onehot', OneHotEncoder(handle_unknown=\"ignore\"), ['Embarked', 'Deck', 'Title'])], remainder='passthrough')),\n",
    "    (\"scaler\", StandardScaler()),\n",
    "    ('classifier', AdaBoostClassifier(random_state = 123))\n",
    "])\n",
    "\n",
    "seed=123\n",
    "kfold = StratifiedKFold(n_splits=5, random_state=seed, shuffle=True)\n",
    "\n",
    "param_grid = {'deck_converter__diff_deck': [True, False],\n",
    "              'del_family_columns__columns': [[], ['SibSp', 'Parch']],\n",
    "              'fare_conv': [None, FareConvert()],\n",
    "              'age_conv': [None, AgeConvert()],\n",
    "              'classifier__n_estimators': [50, 100, 150, 200, 500],\n",
    "              'classifier__learning_rate' : [0.001, 0.1, 1, 10]}\n",
    "\n",
    "ada = GridSearchCV(pipe_ada, param_grid = param_grid, cv=kfold, return_train_score=True, verbose = 3, refit=True, n_jobs = -1)"
   ]
  },
  {
   "cell_type": "code",
   "execution_count": 54,
   "id": "57a2d896",
   "metadata": {},
   "outputs": [
    {
     "name": "stdout",
     "output_type": "stream",
     "text": [
      "Fitting 5 folds for each of 320 candidates, totalling 1600 fits\n"
     ]
    },
    {
     "data": {
      "text/plain": [
       "{'age_conv': AgeConvert(),\n",
       " 'classifier__learning_rate': 0.1,\n",
       " 'classifier__n_estimators': 200,\n",
       " 'deck_converter__diff_deck': False,\n",
       " 'del_family_columns__columns': ['SibSp', 'Parch'],\n",
       " 'fare_conv': FareConvert()}"
      ]
     },
     "execution_count": 54,
     "metadata": {},
     "output_type": "execute_result"
    }
   ],
   "source": [
    "ada.fit(X, y)\n",
    "ada.best_params_"
   ]
  },
  {
   "cell_type": "code",
   "execution_count": 55,
   "id": "b0b58b3e",
   "metadata": {},
   "outputs": [
    {
     "data": {
      "text/plain": [
       "0.8325842696629213"
      ]
     },
     "execution_count": 55,
     "metadata": {},
     "output_type": "execute_result"
    }
   ],
   "source": [
    "ada.best_score_"
   ]
  },
  {
   "cell_type": "markdown",
   "id": "949b2b38",
   "metadata": {},
   "source": [
    "### KNeighbors"
   ]
  },
  {
   "cell_type": "code",
   "execution_count": 56,
   "id": "be93a90d",
   "metadata": {},
   "outputs": [],
   "source": [
    "from sklearn.neighbors import KNeighborsClassifier\n",
    "\n",
    "pipe_knn = Pipeline([\n",
    "    (\"deck_converter\", DeckCapture()),\n",
    "    (\"del_str_val\", DelColumns(['Cabin'])),\n",
    "    (\"age_nan\", AgeNaNFill()),\n",
    "    (\"fare_nan\", FareNaNFill()),\n",
    "    (\"fare_conv\", FareConvert()),\n",
    "    (\"age_conv\", AgeConvert()),\n",
    "    (\"del_family_columns\", DelColumns(['SibSp', 'Parch'])),\n",
    "    (\"dummies\", ColumnTransformer([('onehot', OneHotEncoder(handle_unknown=\"ignore\"), ['Embarked', 'Deck', 'Title'])], remainder='passthrough')),\n",
    "    (\"scaler\", StandardScaler()),\n",
    "    ('classifier', KNeighborsClassifier())\n",
    "])\n",
    "\n",
    "seed=123\n",
    "kfold = StratifiedKFold(n_splits=5, random_state=seed, shuffle=True)\n",
    "\n",
    "param_grid = {'deck_converter__diff_deck': [True, False],\n",
    "              'del_family_columns__columns': [[], ['SibSp', 'Parch']],\n",
    "              'fare_conv': [None, FareConvert()],\n",
    "              'age_conv': [None, AgeConvert()],\n",
    "              'classifier__n_neighbors': [2, 3, 5, 10, 30, 50, 100],\n",
    "              'classifier__weights' : ['uniform', 'distance'],\n",
    "              'classifier__metric' : ['euclidean', 'manhattan', 'cosine']}\n",
    "\n",
    "knn = GridSearchCV(pipe_knn, param_grid = param_grid, cv=kfold, return_train_score=True, verbose = 3, refit=True, n_jobs = -1)"
   ]
  },
  {
   "cell_type": "code",
   "execution_count": 57,
   "id": "7a2eb669",
   "metadata": {},
   "outputs": [
    {
     "name": "stdout",
     "output_type": "stream",
     "text": [
      "Fitting 5 folds for each of 672 candidates, totalling 3360 fits\n"
     ]
    },
    {
     "data": {
      "text/plain": [
       "{'age_conv': None,\n",
       " 'classifier__metric': 'euclidean',\n",
       " 'classifier__n_neighbors': 10,\n",
       " 'classifier__weights': 'uniform',\n",
       " 'deck_converter__diff_deck': False,\n",
       " 'del_family_columns__columns': [],\n",
       " 'fare_conv': None}"
      ]
     },
     "execution_count": 57,
     "metadata": {},
     "output_type": "execute_result"
    }
   ],
   "source": [
    "knn.fit(X, y)\n",
    "knn.best_params_"
   ]
  },
  {
   "cell_type": "code",
   "execution_count": 58,
   "id": "62ba30bb",
   "metadata": {},
   "outputs": [
    {
     "data": {
      "text/plain": [
       "0.8337078651685393"
      ]
     },
     "execution_count": 58,
     "metadata": {},
     "output_type": "execute_result"
    }
   ],
   "source": [
    "knn.best_score_"
   ]
  },
  {
   "cell_type": "markdown",
   "id": "ea241e09",
   "metadata": {},
   "source": [
    "# Porównanie modeli"
   ]
  },
  {
   "cell_type": "markdown",
   "id": "a5a23f08",
   "metadata": {},
   "source": [
    "Wszystkie modele dały zbliżone wyniki wahające się między sobą w granicy procenta. Uwaga przykuwa Random Forest, który mocno overfituje do danych. Na kaaglu najlepsze wyniki dał __SVC rbf__ i __Random Forest__, ale wyniki między modelami różnią się minimalnie na poziomie kilku więcej przypisanych dobrze labeli (1% to około 5 labeli)."
   ]
  },
  {
   "cell_type": "code",
   "execution_count": 59,
   "id": "b778b421",
   "metadata": {},
   "outputs": [
    {
     "name": "stderr",
     "output_type": "stream",
     "text": [
      "D:\\Programs\\Anaconda3\\lib\\site-packages\\sklearn\\neighbors\\_classification.py:228: FutureWarning: Unlike other reduction functions (e.g. `skew`, `kurtosis`), the default behavior of `mode` typically preserves the axis it acts along. In SciPy 1.11.0, this behavior will change: the default value of `keepdims` will become False, the `axis` over which the statistic is taken will be eliminated, and the value None will no longer be accepted. Set `keepdims` to True or False to avoid this warning.\n",
      "  mode, _ = stats.mode(_y[neigh_ind, k], axis=1)\n"
     ]
    },
    {
     "data": {
      "text/html": [
       "<div>\n",
       "<style scoped>\n",
       "    .dataframe tbody tr th:only-of-type {\n",
       "        vertical-align: middle;\n",
       "    }\n",
       "\n",
       "    .dataframe tbody tr th {\n",
       "        vertical-align: top;\n",
       "    }\n",
       "\n",
       "    .dataframe thead th {\n",
       "        text-align: right;\n",
       "    }\n",
       "</style>\n",
       "<table border=\"1\" class=\"dataframe\">\n",
       "  <thead>\n",
       "    <tr style=\"text-align: right;\">\n",
       "      <th></th>\n",
       "      <th>Model</th>\n",
       "      <th>Validation Score</th>\n",
       "      <th>Train Score</th>\n",
       "      <th>Kaagle Score</th>\n",
       "    </tr>\n",
       "  </thead>\n",
       "  <tbody>\n",
       "    <tr>\n",
       "      <th>0</th>\n",
       "      <td>SVC rbf</td>\n",
       "      <td>0.840449</td>\n",
       "      <td>0.842697</td>\n",
       "      <td>0.78229</td>\n",
       "    </tr>\n",
       "    <tr>\n",
       "      <th>1</th>\n",
       "      <td>SVC linear</td>\n",
       "      <td>0.829213</td>\n",
       "      <td>0.831461</td>\n",
       "      <td>0.77511</td>\n",
       "    </tr>\n",
       "    <tr>\n",
       "      <th>2</th>\n",
       "      <td>Linear Regression</td>\n",
       "      <td>0.834831</td>\n",
       "      <td>0.834831</td>\n",
       "      <td>0.76794</td>\n",
       "    </tr>\n",
       "    <tr>\n",
       "      <th>3</th>\n",
       "      <td>Decision Tree</td>\n",
       "      <td>0.837079</td>\n",
       "      <td>0.841573</td>\n",
       "      <td>0.76555</td>\n",
       "    </tr>\n",
       "    <tr>\n",
       "      <th>4</th>\n",
       "      <td>Random Forest</td>\n",
       "      <td>0.841573</td>\n",
       "      <td>0.910112</td>\n",
       "      <td>0.78229</td>\n",
       "    </tr>\n",
       "    <tr>\n",
       "      <th>5</th>\n",
       "      <td>Ada Boosting</td>\n",
       "      <td>0.832584</td>\n",
       "      <td>0.842697</td>\n",
       "      <td>0.77272</td>\n",
       "    </tr>\n",
       "    <tr>\n",
       "      <th>6</th>\n",
       "      <td>KNeighbors</td>\n",
       "      <td>0.833708</td>\n",
       "      <td>0.856180</td>\n",
       "      <td>0.77033</td>\n",
       "    </tr>\n",
       "  </tbody>\n",
       "</table>\n",
       "</div>"
      ],
      "text/plain": [
       "               Model  Validation Score  Train Score  Kaagle Score\n",
       "0            SVC rbf          0.840449     0.842697       0.78229\n",
       "1         SVC linear          0.829213     0.831461       0.77511\n",
       "2  Linear Regression          0.834831     0.834831       0.76794\n",
       "3      Decision Tree          0.837079     0.841573       0.76555\n",
       "4      Random Forest          0.841573     0.910112       0.78229\n",
       "5       Ada Boosting          0.832584     0.842697       0.77272\n",
       "6         KNeighbors          0.833708     0.856180       0.77033"
      ]
     },
     "execution_count": 59,
     "metadata": {},
     "output_type": "execute_result"
    }
   ],
   "source": [
    "compare_models = ps.DataFrame(\n",
    "    {'Model': ['SVC rbf', 'SVC linear', 'Linear Regression', 'Decision Tree', 'Random Forest', 'Ada Boosting', 'KNeighbors'],\n",
    "     'Validation Score': [svc_rbf.best_score_, svc_lin.best_score_, lr.best_score_, dt.best_score_, rf.best_score_, ada.best_score_, knn.best_score_],\n",
    "     'Train Score': [svc_rbf.score(X,y), svc_lin.score(X,y), lr.score(X,y), dt.score(X,y), rf.score(X,y), ada.score(X,y), knn.score(X,y)],\n",
    "     'Kaagle Score': [0.78229, 0.77511, 0.76794, 0.76555, 0.78229, 0.77272, 0.77033]\n",
    "    })\n",
    "compare_models"
   ]
  },
  {
   "cell_type": "markdown",
   "id": "745b2e38",
   "metadata": {},
   "source": [
    "### Voting Classifier"
   ]
  },
  {
   "cell_type": "markdown",
   "id": "c27a02a4",
   "metadata": {},
   "source": [
    "Sprawdźmy jeszcze, czy Voting Classifier będzie w stanie poprawić wynik naszych modeli"
   ]
  },
  {
   "cell_type": "code",
   "execution_count": 60,
   "id": "4c72fdd2",
   "metadata": {},
   "outputs": [],
   "source": [
    "from sklearn.ensemble import VotingClassifier\n",
    "\n",
    "voting_soft = VotingClassifier(\n",
    "    estimators=[('svc_rbf', svc_rbf), ('svc_lin', svc_lin), ('lr', lr), ('dt', dt), ('rf', rf), ('ada', ada), ('knn', knn)],\n",
    "    voting='soft', n_jobs = -1)\n",
    "\n",
    "voting_hard = VotingClassifier(\n",
    "    estimators=[('svc_rbf', svc_rbf), ('svc_lin', svc_lin), ('lr', lr), ('dt', dt), ('rf', rf), ('ada', ada), ('knn', knn)],\n",
    "    voting='hard', n_jobs = -1)"
   ]
  },
  {
   "cell_type": "code",
   "execution_count": 61,
   "id": "d7e6af47",
   "metadata": {},
   "outputs": [
    {
     "data": {
      "text/plain": [
       "VotingClassifier(estimators=[('svc_rbf',\n",
       "                              GridSearchCV(cv=StratifiedKFold(n_splits=5, random_state=123, shuffle=True),\n",
       "                                           estimator=Pipeline(steps=[('deck_converter',\n",
       "                                                                      DeckCapture()),\n",
       "                                                                     ('del_str_val',\n",
       "                                                                      DelColumns(columns=['Cabin'])),\n",
       "                                                                     ('age_nan',\n",
       "                                                                      AgeNaNFill()),\n",
       "                                                                     ('fare_nan',\n",
       "                                                                      FareNaNFill()),\n",
       "                                                                     ('fare_conv',\n",
       "                                                                      FareConvert()),\n",
       "                                                                     ('age_conv',\n",
       "                                                                      AgeConvert()),\n",
       "                                                                     ('del_family_columns',\n",
       "                                                                      Del...\n",
       "                                                                    AgeConvert()],\n",
       "                                                       'classifier__metric': ['euclidean',\n",
       "                                                                              'manhattan',\n",
       "                                                                              'cosine'],\n",
       "                                                       'classifier__n_neighbors': [2,\n",
       "                                                                                   3,\n",
       "                                                                                   5,\n",
       "                                                                                   10,\n",
       "                                                                                   30,\n",
       "                                                                                   50,\n",
       "                                                                                   100],\n",
       "                                                       'classifier__weights': ['uniform',\n",
       "                                                                               'distance'],\n",
       "                                                       'deck_converter__diff_deck': [True,\n",
       "                                                                                     False],\n",
       "                                                       'del_family_columns__columns': [[],\n",
       "                                                                                       ['SibSp',\n",
       "                                                                                        'Parch']],\n",
       "                                                       'fare_conv': [None,\n",
       "                                                                     FareConvert()]},\n",
       "                                           return_train_score=True,\n",
       "                                           verbose=3))],\n",
       "                 n_jobs=-1, voting='soft')"
      ]
     },
     "execution_count": 61,
     "metadata": {},
     "output_type": "execute_result"
    }
   ],
   "source": [
    "voting_soft.fit(X, y)"
   ]
  },
  {
   "cell_type": "code",
   "execution_count": 62,
   "id": "c5e15607",
   "metadata": {},
   "outputs": [
    {
     "data": {
      "text/plain": [
       "VotingClassifier(estimators=[('svc_rbf',\n",
       "                              GridSearchCV(cv=StratifiedKFold(n_splits=5, random_state=123, shuffle=True),\n",
       "                                           estimator=Pipeline(steps=[('deck_converter',\n",
       "                                                                      DeckCapture()),\n",
       "                                                                     ('del_str_val',\n",
       "                                                                      DelColumns(columns=['Cabin'])),\n",
       "                                                                     ('age_nan',\n",
       "                                                                      AgeNaNFill()),\n",
       "                                                                     ('fare_nan',\n",
       "                                                                      FareNaNFill()),\n",
       "                                                                     ('fare_conv',\n",
       "                                                                      FareConvert()),\n",
       "                                                                     ('age_conv',\n",
       "                                                                      AgeConvert()),\n",
       "                                                                     ('del_family_columns',\n",
       "                                                                      Del...\n",
       "                                           param_grid={'age_conv': [None,\n",
       "                                                                    AgeConvert()],\n",
       "                                                       'classifier__metric': ['euclidean',\n",
       "                                                                              'manhattan',\n",
       "                                                                              'cosine'],\n",
       "                                                       'classifier__n_neighbors': [2,\n",
       "                                                                                   3,\n",
       "                                                                                   5,\n",
       "                                                                                   10,\n",
       "                                                                                   30,\n",
       "                                                                                   50,\n",
       "                                                                                   100],\n",
       "                                                       'classifier__weights': ['uniform',\n",
       "                                                                               'distance'],\n",
       "                                                       'deck_converter__diff_deck': [True,\n",
       "                                                                                     False],\n",
       "                                                       'del_family_columns__columns': [[],\n",
       "                                                                                       ['SibSp',\n",
       "                                                                                        'Parch']],\n",
       "                                                       'fare_conv': [None,\n",
       "                                                                     FareConvert()]},\n",
       "                                           return_train_score=True,\n",
       "                                           verbose=3))],\n",
       "                 n_jobs=-1)"
      ]
     },
     "execution_count": 62,
     "metadata": {},
     "output_type": "execute_result"
    }
   ],
   "source": [
    "voting_hard.fit(X, y)"
   ]
  },
  {
   "cell_type": "code",
   "execution_count": 63,
   "id": "a781323f",
   "metadata": {},
   "outputs": [
    {
     "data": {
      "text/plain": [
       "0.849438202247191"
      ]
     },
     "execution_count": 63,
     "metadata": {},
     "output_type": "execute_result"
    }
   ],
   "source": [
    "voting_soft.score(X, y)"
   ]
  },
  {
   "cell_type": "code",
   "execution_count": 64,
   "id": "8261518b",
   "metadata": {},
   "outputs": [
    {
     "name": "stderr",
     "output_type": "stream",
     "text": [
      "D:\\Programs\\Anaconda3\\lib\\site-packages\\sklearn\\neighbors\\_classification.py:228: FutureWarning: Unlike other reduction functions (e.g. `skew`, `kurtosis`), the default behavior of `mode` typically preserves the axis it acts along. In SciPy 1.11.0, this behavior will change: the default value of `keepdims` will become False, the `axis` over which the statistic is taken will be eliminated, and the value None will no longer be accepted. Set `keepdims` to True or False to avoid this warning.\n",
      "  mode, _ = stats.mode(_y[neigh_ind, k], axis=1)\n"
     ]
    },
    {
     "data": {
      "text/plain": [
       "0.8471910112359551"
      ]
     },
     "execution_count": 64,
     "metadata": {},
     "output_type": "execute_result"
    }
   ],
   "source": [
    "voting_hard.score(X, y)"
   ]
  },
  {
   "cell_type": "markdown",
   "id": "f933605f",
   "metadata": {},
   "source": [
    "Oba modele dają zbliżone wyniki w porównaniu do reszty modeli. Na kaaglu oba modele dają wynik __77.99%__, czyli dobry, ale nie najlepszy."
   ]
  },
  {
   "cell_type": "markdown",
   "id": "d393f9c4",
   "metadata": {},
   "source": [
    "# Zapisanie wyników"
   ]
  },
  {
   "cell_type": "code",
   "execution_count": 65,
   "id": "d67ac69c",
   "metadata": {},
   "outputs": [],
   "source": [
    "import joblib\n",
    "def safe_model(model, name):\n",
    "    test_data = load_titanic_data(\"test.csv\")\n",
    "    X = prepare_data(test_data)\n",
    "    y_pred = model.predict(X)\n",
    "    submission = ps.DataFrame({\"PassengerId\": test_data[\"PassengerId\"], \"Survived\": y_pred})\n",
    "    submission.to_csv('out/{}.csv'.format(name), index=False)\n",
    "    joblib.dump(model, 'model/{}.sav'.format(name))\n",
    "    return"
   ]
  },
  {
   "cell_type": "code",
   "execution_count": 66,
   "id": "4e400a00",
   "metadata": {},
   "outputs": [
    {
     "name": "stderr",
     "output_type": "stream",
     "text": [
      "D:\\Programs\\Anaconda3\\lib\\site-packages\\sklearn\\neighbors\\_classification.py:228: FutureWarning: Unlike other reduction functions (e.g. `skew`, `kurtosis`), the default behavior of `mode` typically preserves the axis it acts along. In SciPy 1.11.0, this behavior will change: the default value of `keepdims` will become False, the `axis` over which the statistic is taken will be eliminated, and the value None will no longer be accepted. Set `keepdims` to True or False to avoid this warning.\n",
      "  mode, _ = stats.mode(_y[neigh_ind, k], axis=1)\n"
     ]
    }
   ],
   "source": [
    "safe_model(svc_rbf, 'svc_rbf')\n",
    "safe_model(svc_lin, 'svc_lin')\n",
    "safe_model(lr, 'linear_regresion')\n",
    "safe_model(dt, 'decision_tree')\n",
    "safe_model(rf, 'random_forest')\n",
    "safe_model(ada, 'ada_boosting')\n",
    "safe_model(knn, 'kernel_neighbours')"
   ]
  },
  {
   "cell_type": "code",
   "execution_count": 67,
   "id": "0cfb6a83",
   "metadata": {},
   "outputs": [
    {
     "name": "stderr",
     "output_type": "stream",
     "text": [
      "D:\\Programs\\Anaconda3\\lib\\site-packages\\sklearn\\neighbors\\_classification.py:228: FutureWarning: Unlike other reduction functions (e.g. `skew`, `kurtosis`), the default behavior of `mode` typically preserves the axis it acts along. In SciPy 1.11.0, this behavior will change: the default value of `keepdims` will become False, the `axis` over which the statistic is taken will be eliminated, and the value None will no longer be accepted. Set `keepdims` to True or False to avoid this warning.\n",
      "  mode, _ = stats.mode(_y[neigh_ind, k], axis=1)\n"
     ]
    }
   ],
   "source": [
    "safe_model(voting_soft, 'voting_soft')\n",
    "safe_model(voting_hard, 'voting_hard')"
   ]
  },
  {
   "cell_type": "markdown",
   "id": "164b0dfd",
   "metadata": {},
   "source": [
    "# Podsumowanie"
   ]
  },
  {
   "cell_type": "markdown",
   "id": "99415f84",
   "metadata": {},
   "source": [
    "Żaden model nie okazał się wyraźnie lepszy od pozostałych. Róźnice między nimi wahają się w granicy procenta. Najlepszy wynik uzyskały __SVC rbf__ i __Random Forest__, ale są tu róźnice minimalne.\n",
    "\n",
    "Nasz końcowy wynik to __78.22%__ na kaaglu"
   ]
  }
 ],
 "metadata": {
  "kernelspec": {
   "display_name": "Python 3 (ipykernel)",
   "language": "python",
   "name": "python3"
  },
  "language_info": {
   "codemirror_mode": {
    "name": "ipython",
    "version": 3
   },
   "file_extension": ".py",
   "mimetype": "text/x-python",
   "name": "python",
   "nbconvert_exporter": "python",
   "pygments_lexer": "ipython3",
   "version": "3.9.13"
  }
 },
 "nbformat": 4,
 "nbformat_minor": 5
}
